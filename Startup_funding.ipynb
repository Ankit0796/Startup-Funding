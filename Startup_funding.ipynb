{
 "cells": [
  {
   "cell_type": "markdown",
   "id": "4f4ddf57",
   "metadata": {},
   "source": [
    "#Startup funding data cleaning"
   ]
  },
  {
   "cell_type": "code",
   "execution_count": null,
   "id": "53cddb6f",
   "metadata": {},
   "outputs": [],
   "source": [
    "import pandas as pd\n",
    "import re\n",
    "import numpy as np\n"
   ]
  },
  {
   "cell_type": "code",
   "execution_count": 3,
   "id": "55d7fe9d",
   "metadata": {},
   "outputs": [],
   "source": [
    "pd.reset_option('display.max_colwidth')\n",
    "pd.reset_option('display.max_rows')\n",
    "pd.reset_option('display.max_columns')"
   ]
  },
  {
   "cell_type": "markdown",
   "id": "141b0cf6",
   "metadata": {},
   "source": [
    "### Importing raw dataset"
   ]
  },
  {
   "cell_type": "code",
   "execution_count": 50,
   "metadata": {},
   "outputs": [
    {
     "data": {
      "text/html": [
       "<div>\n",
       "<style scoped>\n",
       "    .dataframe tbody tr th:only-of-type {\n",
       "        vertical-align: middle;\n",
       "    }\n",
       "\n",
       "    .dataframe tbody tr th {\n",
       "        vertical-align: top;\n",
       "    }\n",
       "\n",
       "    .dataframe thead th {\n",
       "        text-align: right;\n",
       "    }\n",
       "</style>\n",
       "<table border=\"1\" class=\"dataframe\">\n",
       "  <thead>\n",
       "    <tr style=\"text-align: right;\">\n",
       "      <th></th>\n",
       "      <th>Sr No</th>\n",
       "      <th>Date dd/mm/yyyy</th>\n",
       "      <th>Startup Name</th>\n",
       "      <th>Industry Vertical</th>\n",
       "      <th>SubVertical</th>\n",
       "      <th>City  Location</th>\n",
       "      <th>Investors Name</th>\n",
       "      <th>InvestmentnType</th>\n",
       "      <th>Amount in USD</th>\n",
       "      <th>Remarks</th>\n",
       "    </tr>\n",
       "  </thead>\n",
       "  <tbody>\n",
       "    <tr>\n",
       "      <th>0</th>\n",
       "      <td>1</td>\n",
       "      <td>09-01-2020</td>\n",
       "      <td>BYJU’S</td>\n",
       "      <td>E-Tech</td>\n",
       "      <td>E-learning</td>\n",
       "      <td>Bengaluru</td>\n",
       "      <td>Tiger Global Management</td>\n",
       "      <td>Private Equity Round</td>\n",
       "      <td>20,00,00,000</td>\n",
       "      <td>NaN</td>\n",
       "    </tr>\n",
       "    <tr>\n",
       "      <th>1</th>\n",
       "      <td>2</td>\n",
       "      <td>13-01-2020</td>\n",
       "      <td>Shuttl</td>\n",
       "      <td>Transportation</td>\n",
       "      <td>App based shuttle service</td>\n",
       "      <td>Gurgaon</td>\n",
       "      <td>Susquehanna Growth Equity</td>\n",
       "      <td>Series C</td>\n",
       "      <td>80,48,394</td>\n",
       "      <td>NaN</td>\n",
       "    </tr>\n",
       "    <tr>\n",
       "      <th>2</th>\n",
       "      <td>3</td>\n",
       "      <td>09-01-2020</td>\n",
       "      <td>Mamaearth</td>\n",
       "      <td>E-commerce</td>\n",
       "      <td>Retailer of baby and toddler products</td>\n",
       "      <td>Bengaluru</td>\n",
       "      <td>Sequoia Capital India</td>\n",
       "      <td>Series B</td>\n",
       "      <td>1,83,58,860</td>\n",
       "      <td>NaN</td>\n",
       "    </tr>\n",
       "    <tr>\n",
       "      <th>3</th>\n",
       "      <td>4</td>\n",
       "      <td>02-01-2020</td>\n",
       "      <td>https://www.wealthbucket.in/</td>\n",
       "      <td>FinTech</td>\n",
       "      <td>Online Investment</td>\n",
       "      <td>New Delhi</td>\n",
       "      <td>Vinod Khatumal</td>\n",
       "      <td>Pre-series A</td>\n",
       "      <td>30,00,000</td>\n",
       "      <td>NaN</td>\n",
       "    </tr>\n",
       "    <tr>\n",
       "      <th>4</th>\n",
       "      <td>5</td>\n",
       "      <td>02-01-2020</td>\n",
       "      <td>Fashor</td>\n",
       "      <td>Fashion and Apparel</td>\n",
       "      <td>Embroiled Clothes For Women</td>\n",
       "      <td>Mumbai</td>\n",
       "      <td>Sprout Venture Partners</td>\n",
       "      <td>Seed Round</td>\n",
       "      <td>18,00,000</td>\n",
       "      <td>NaN</td>\n",
       "    </tr>\n",
       "    <tr>\n",
       "      <th>...</th>\n",
       "      <td>...</td>\n",
       "      <td>...</td>\n",
       "      <td>...</td>\n",
       "      <td>...</td>\n",
       "      <td>...</td>\n",
       "      <td>...</td>\n",
       "      <td>...</td>\n",
       "      <td>...</td>\n",
       "      <td>...</td>\n",
       "      <td>...</td>\n",
       "    </tr>\n",
       "    <tr>\n",
       "      <th>3039</th>\n",
       "      <td>3040</td>\n",
       "      <td>29-01-2015</td>\n",
       "      <td>Printvenue</td>\n",
       "      <td>NaN</td>\n",
       "      <td>NaN</td>\n",
       "      <td>NaN</td>\n",
       "      <td>Asia Pacific Internet Group</td>\n",
       "      <td>Private Equity</td>\n",
       "      <td>45,00,000</td>\n",
       "      <td>NaN</td>\n",
       "    </tr>\n",
       "    <tr>\n",
       "      <th>3040</th>\n",
       "      <td>3041</td>\n",
       "      <td>29-01-2015</td>\n",
       "      <td>Graphene</td>\n",
       "      <td>NaN</td>\n",
       "      <td>NaN</td>\n",
       "      <td>NaN</td>\n",
       "      <td>KARSEMVEN Fund</td>\n",
       "      <td>Private Equity</td>\n",
       "      <td>8,25,000</td>\n",
       "      <td>Govt backed VC Fund</td>\n",
       "    </tr>\n",
       "    <tr>\n",
       "      <th>3041</th>\n",
       "      <td>3042</td>\n",
       "      <td>30-01-2015</td>\n",
       "      <td>Mad Street Den</td>\n",
       "      <td>NaN</td>\n",
       "      <td>NaN</td>\n",
       "      <td>NaN</td>\n",
       "      <td>Exfinity Fund, GrowX Ventures.</td>\n",
       "      <td>Private Equity</td>\n",
       "      <td>15,00,000</td>\n",
       "      <td>NaN</td>\n",
       "    </tr>\n",
       "    <tr>\n",
       "      <th>3042</th>\n",
       "      <td>3043</td>\n",
       "      <td>30-01-2015</td>\n",
       "      <td>Simplotel</td>\n",
       "      <td>NaN</td>\n",
       "      <td>NaN</td>\n",
       "      <td>NaN</td>\n",
       "      <td>MakeMyTrip</td>\n",
       "      <td>Private Equity</td>\n",
       "      <td>NaN</td>\n",
       "      <td>Strategic Funding, Minority stake</td>\n",
       "    </tr>\n",
       "    <tr>\n",
       "      <th>3043</th>\n",
       "      <td>3044</td>\n",
       "      <td>31-01-2015</td>\n",
       "      <td>couponmachine.in</td>\n",
       "      <td>NaN</td>\n",
       "      <td>NaN</td>\n",
       "      <td>NaN</td>\n",
       "      <td>UK based Group of Angel Investors</td>\n",
       "      <td>Seed Funding</td>\n",
       "      <td>1,40,000</td>\n",
       "      <td>NaN</td>\n",
       "    </tr>\n",
       "  </tbody>\n",
       "</table>\n",
       "<p>3044 rows × 10 columns</p>\n",
       "</div>"
      ],
      "text/plain": [
       "      Sr No Date dd/mm/yyyy                  Startup Name  \\\n",
       "0         1      09-01-2020                        BYJU’S   \n",
       "1         2      13-01-2020                        Shuttl   \n",
       "2         3      09-01-2020                     Mamaearth   \n",
       "3         4      02-01-2020  https://www.wealthbucket.in/   \n",
       "4         5      02-01-2020                        Fashor   \n",
       "...     ...             ...                           ...   \n",
       "3039   3040      29-01-2015                    Printvenue   \n",
       "3040   3041      29-01-2015                      Graphene   \n",
       "3041   3042      30-01-2015                Mad Street Den   \n",
       "3042   3043      30-01-2015                     Simplotel   \n",
       "3043   3044      31-01-2015              couponmachine.in   \n",
       "\n",
       "        Industry Vertical                            SubVertical  \\\n",
       "0                  E-Tech                             E-learning   \n",
       "1          Transportation              App based shuttle service   \n",
       "2              E-commerce  Retailer of baby and toddler products   \n",
       "3                 FinTech                      Online Investment   \n",
       "4     Fashion and Apparel            Embroiled Clothes For Women   \n",
       "...                   ...                                    ...   \n",
       "3039                  NaN                                    NaN   \n",
       "3040                  NaN                                    NaN   \n",
       "3041                  NaN                                    NaN   \n",
       "3042                  NaN                                    NaN   \n",
       "3043                  NaN                                    NaN   \n",
       "\n",
       "     City  Location                     Investors Name       InvestmentnType  \\\n",
       "0         Bengaluru            Tiger Global Management  Private Equity Round   \n",
       "1           Gurgaon          Susquehanna Growth Equity              Series C   \n",
       "2         Bengaluru              Sequoia Capital India              Series B   \n",
       "3         New Delhi                     Vinod Khatumal          Pre-series A   \n",
       "4            Mumbai            Sprout Venture Partners            Seed Round   \n",
       "...             ...                                ...                   ...   \n",
       "3039            NaN        Asia Pacific Internet Group        Private Equity   \n",
       "3040            NaN                     KARSEMVEN Fund        Private Equity   \n",
       "3041            NaN     Exfinity Fund, GrowX Ventures.        Private Equity   \n",
       "3042            NaN                         MakeMyTrip        Private Equity   \n",
       "3043            NaN  UK based Group of Angel Investors          Seed Funding   \n",
       "\n",
       "     Amount in USD                            Remarks  \n",
       "0     20,00,00,000                                NaN  \n",
       "1        80,48,394                                NaN  \n",
       "2      1,83,58,860                                NaN  \n",
       "3        30,00,000                                NaN  \n",
       "4        18,00,000                                NaN  \n",
       "...            ...                                ...  \n",
       "3039     45,00,000                                NaN  \n",
       "3040      8,25,000                Govt backed VC Fund  \n",
       "3041     15,00,000                                NaN  \n",
       "3042           NaN  Strategic Funding, Minority stake  \n",
       "3043      1,40,000                                NaN  \n",
       "\n",
       "[3044 rows x 10 columns]"
      ]
     },
     "execution_count": 50,
     "metadata": {},
     "output_type": "execute_result"
    }
   ],
   "source": [
    "df=pd.read_csv(\"startup_funding (RAW) - Copy.csv\")\n",
    "df"
   ]
  },
  {
   "cell_type": "markdown",
   "id": "caefb3ee",
   "metadata": {},
   "source": [
    "#### Renaming the Columns"
   ]
  },
  {
   "cell_type": "code",
   "execution_count": null,
   "id": "7dcc595e",
   "metadata": {},
   "outputs": [
    {
     "data": {
      "text/plain": [
       "Index(['Sr No', 'Date dd/mm/yyyy', 'Startup Name', 'Industry Vertical',\n",
       "       'SubVertical', 'City  Location', 'Investors Name', 'InvestmentnType',\n",
       "       'Amount in USD', 'Remarks'],\n",
       "      dtype='object')"
      ]
     },
     "execution_count": 51,
     "metadata": {},
     "output_type": "execute_result"
    }
   ],
   "source": [
    "print(df.columns)"
   ]
  },
  {
   "cell_type": "code",
   "execution_count": 52,
   "id": "e0c1af66",
   "metadata": {},
   "outputs": [
    {
     "data": {
      "text/plain": [
       "Index(['Sr No', 'Date', 'Startup Name', 'Industry Vertical', 'Sub-Vertical',\n",
       "       'City', 'Investors Name', 'Investment Type', 'Amount (USD)', 'Remarks'],\n",
       "      dtype='object')"
      ]
     },
     "execution_count": 52,
     "metadata": {},
     "output_type": "execute_result"
    }
   ],
   "source": [
    "df.rename(columns = {\n",
    "                'Date dd/mm/yyyy' : 'Date', \n",
    "                'SubVertical' : 'Sub-Vertical', \n",
    "               'City  Location' : 'City',\n",
    "               'InvestmentnType' : 'Investment Type',\n",
    "               'Amount in USD' : 'Amount (USD)'\n",
    "},\n",
    "inplace=True)\n",
    "df.columns"
   ]
  },
  {
   "cell_type": "code",
   "execution_count": 53,
   "id": "9ebb91e9",
   "metadata": {},
   "outputs": [
    {
     "data": {
      "text/html": [
       "<div>\n",
       "<style scoped>\n",
       "    .dataframe tbody tr th:only-of-type {\n",
       "        vertical-align: middle;\n",
       "    }\n",
       "\n",
       "    .dataframe tbody tr th {\n",
       "        vertical-align: top;\n",
       "    }\n",
       "\n",
       "    .dataframe thead th {\n",
       "        text-align: right;\n",
       "    }\n",
       "</style>\n",
       "<table border=\"1\" class=\"dataframe\">\n",
       "  <thead>\n",
       "    <tr style=\"text-align: right;\">\n",
       "      <th></th>\n",
       "      <th>Sr No</th>\n",
       "      <th>Date</th>\n",
       "      <th>Startup Name</th>\n",
       "      <th>Industry Vertical</th>\n",
       "      <th>Sub-Vertical</th>\n",
       "      <th>City</th>\n",
       "      <th>Investors Name</th>\n",
       "      <th>Investment Type</th>\n",
       "      <th>Amount (USD)</th>\n",
       "      <th>Remarks</th>\n",
       "    </tr>\n",
       "  </thead>\n",
       "  <tbody>\n",
       "    <tr>\n",
       "      <th>0</th>\n",
       "      <td>1</td>\n",
       "      <td>09-01-2020</td>\n",
       "      <td>BYJU’S</td>\n",
       "      <td>E-Tech</td>\n",
       "      <td>E-learning</td>\n",
       "      <td>Bengaluru</td>\n",
       "      <td>Tiger Global Management</td>\n",
       "      <td>Private Equity Round</td>\n",
       "      <td>20,00,00,000</td>\n",
       "      <td>NaN</td>\n",
       "    </tr>\n",
       "    <tr>\n",
       "      <th>1</th>\n",
       "      <td>2</td>\n",
       "      <td>13-01-2020</td>\n",
       "      <td>Shuttl</td>\n",
       "      <td>Transportation</td>\n",
       "      <td>App based shuttle service</td>\n",
       "      <td>Gurgaon</td>\n",
       "      <td>Susquehanna Growth Equity</td>\n",
       "      <td>Series C</td>\n",
       "      <td>80,48,394</td>\n",
       "      <td>NaN</td>\n",
       "    </tr>\n",
       "    <tr>\n",
       "      <th>2</th>\n",
       "      <td>3</td>\n",
       "      <td>09-01-2020</td>\n",
       "      <td>Mamaearth</td>\n",
       "      <td>E-commerce</td>\n",
       "      <td>Retailer of baby and toddler products</td>\n",
       "      <td>Bengaluru</td>\n",
       "      <td>Sequoia Capital India</td>\n",
       "      <td>Series B</td>\n",
       "      <td>1,83,58,860</td>\n",
       "      <td>NaN</td>\n",
       "    </tr>\n",
       "    <tr>\n",
       "      <th>3</th>\n",
       "      <td>4</td>\n",
       "      <td>02-01-2020</td>\n",
       "      <td>https://www.wealthbucket.in/</td>\n",
       "      <td>FinTech</td>\n",
       "      <td>Online Investment</td>\n",
       "      <td>New Delhi</td>\n",
       "      <td>Vinod Khatumal</td>\n",
       "      <td>Pre-series A</td>\n",
       "      <td>30,00,000</td>\n",
       "      <td>NaN</td>\n",
       "    </tr>\n",
       "    <tr>\n",
       "      <th>4</th>\n",
       "      <td>5</td>\n",
       "      <td>02-01-2020</td>\n",
       "      <td>Fashor</td>\n",
       "      <td>Fashion and Apparel</td>\n",
       "      <td>Embroiled Clothes For Women</td>\n",
       "      <td>Mumbai</td>\n",
       "      <td>Sprout Venture Partners</td>\n",
       "      <td>Seed Round</td>\n",
       "      <td>18,00,000</td>\n",
       "      <td>NaN</td>\n",
       "    </tr>\n",
       "    <tr>\n",
       "      <th>...</th>\n",
       "      <td>...</td>\n",
       "      <td>...</td>\n",
       "      <td>...</td>\n",
       "      <td>...</td>\n",
       "      <td>...</td>\n",
       "      <td>...</td>\n",
       "      <td>...</td>\n",
       "      <td>...</td>\n",
       "      <td>...</td>\n",
       "      <td>...</td>\n",
       "    </tr>\n",
       "    <tr>\n",
       "      <th>3039</th>\n",
       "      <td>3040</td>\n",
       "      <td>29-01-2015</td>\n",
       "      <td>Printvenue</td>\n",
       "      <td>NaN</td>\n",
       "      <td>NaN</td>\n",
       "      <td>NaN</td>\n",
       "      <td>Asia Pacific Internet Group</td>\n",
       "      <td>Private Equity</td>\n",
       "      <td>45,00,000</td>\n",
       "      <td>NaN</td>\n",
       "    </tr>\n",
       "    <tr>\n",
       "      <th>3040</th>\n",
       "      <td>3041</td>\n",
       "      <td>29-01-2015</td>\n",
       "      <td>Graphene</td>\n",
       "      <td>NaN</td>\n",
       "      <td>NaN</td>\n",
       "      <td>NaN</td>\n",
       "      <td>KARSEMVEN Fund</td>\n",
       "      <td>Private Equity</td>\n",
       "      <td>8,25,000</td>\n",
       "      <td>Govt backed VC Fund</td>\n",
       "    </tr>\n",
       "    <tr>\n",
       "      <th>3041</th>\n",
       "      <td>3042</td>\n",
       "      <td>30-01-2015</td>\n",
       "      <td>Mad Street Den</td>\n",
       "      <td>NaN</td>\n",
       "      <td>NaN</td>\n",
       "      <td>NaN</td>\n",
       "      <td>Exfinity Fund, GrowX Ventures.</td>\n",
       "      <td>Private Equity</td>\n",
       "      <td>15,00,000</td>\n",
       "      <td>NaN</td>\n",
       "    </tr>\n",
       "    <tr>\n",
       "      <th>3042</th>\n",
       "      <td>3043</td>\n",
       "      <td>30-01-2015</td>\n",
       "      <td>Simplotel</td>\n",
       "      <td>NaN</td>\n",
       "      <td>NaN</td>\n",
       "      <td>NaN</td>\n",
       "      <td>MakeMyTrip</td>\n",
       "      <td>Private Equity</td>\n",
       "      <td>NaN</td>\n",
       "      <td>Strategic Funding, Minority stake</td>\n",
       "    </tr>\n",
       "    <tr>\n",
       "      <th>3043</th>\n",
       "      <td>3044</td>\n",
       "      <td>31-01-2015</td>\n",
       "      <td>couponmachine.in</td>\n",
       "      <td>NaN</td>\n",
       "      <td>NaN</td>\n",
       "      <td>NaN</td>\n",
       "      <td>UK based Group of Angel Investors</td>\n",
       "      <td>Seed Funding</td>\n",
       "      <td>1,40,000</td>\n",
       "      <td>NaN</td>\n",
       "    </tr>\n",
       "  </tbody>\n",
       "</table>\n",
       "<p>3044 rows × 10 columns</p>\n",
       "</div>"
      ],
      "text/plain": [
       "      Sr No        Date                  Startup Name    Industry Vertical  \\\n",
       "0         1  09-01-2020                        BYJU’S               E-Tech   \n",
       "1         2  13-01-2020                        Shuttl       Transportation   \n",
       "2         3  09-01-2020                     Mamaearth           E-commerce   \n",
       "3         4  02-01-2020  https://www.wealthbucket.in/              FinTech   \n",
       "4         5  02-01-2020                        Fashor  Fashion and Apparel   \n",
       "...     ...         ...                           ...                  ...   \n",
       "3039   3040  29-01-2015                    Printvenue                  NaN   \n",
       "3040   3041  29-01-2015                      Graphene                  NaN   \n",
       "3041   3042  30-01-2015                Mad Street Den                  NaN   \n",
       "3042   3043  30-01-2015                     Simplotel                  NaN   \n",
       "3043   3044  31-01-2015              couponmachine.in                  NaN   \n",
       "\n",
       "                               Sub-Vertical       City  \\\n",
       "0                                E-learning  Bengaluru   \n",
       "1                 App based shuttle service    Gurgaon   \n",
       "2     Retailer of baby and toddler products  Bengaluru   \n",
       "3                         Online Investment  New Delhi   \n",
       "4               Embroiled Clothes For Women     Mumbai   \n",
       "...                                     ...        ...   \n",
       "3039                                    NaN        NaN   \n",
       "3040                                    NaN        NaN   \n",
       "3041                                    NaN        NaN   \n",
       "3042                                    NaN        NaN   \n",
       "3043                                    NaN        NaN   \n",
       "\n",
       "                         Investors Name       Investment Type  Amount (USD)  \\\n",
       "0               Tiger Global Management  Private Equity Round  20,00,00,000   \n",
       "1             Susquehanna Growth Equity              Series C     80,48,394   \n",
       "2                 Sequoia Capital India              Series B   1,83,58,860   \n",
       "3                        Vinod Khatumal          Pre-series A     30,00,000   \n",
       "4               Sprout Venture Partners            Seed Round     18,00,000   \n",
       "...                                 ...                   ...           ...   \n",
       "3039        Asia Pacific Internet Group        Private Equity     45,00,000   \n",
       "3040                     KARSEMVEN Fund        Private Equity      8,25,000   \n",
       "3041     Exfinity Fund, GrowX Ventures.        Private Equity     15,00,000   \n",
       "3042                         MakeMyTrip        Private Equity           NaN   \n",
       "3043  UK based Group of Angel Investors          Seed Funding      1,40,000   \n",
       "\n",
       "                                Remarks  \n",
       "0                                   NaN  \n",
       "1                                   NaN  \n",
       "2                                   NaN  \n",
       "3                                   NaN  \n",
       "4                                   NaN  \n",
       "...                                 ...  \n",
       "3039                                NaN  \n",
       "3040                Govt backed VC Fund  \n",
       "3041                                NaN  \n",
       "3042  Strategic Funding, Minority stake  \n",
       "3043                                NaN  \n",
       "\n",
       "[3044 rows x 10 columns]"
      ]
     },
     "execution_count": 53,
     "metadata": {},
     "output_type": "execute_result"
    }
   ],
   "source": [
    "df"
   ]
  },
  {
   "cell_type": "markdown",
   "id": "7e86ff23",
   "metadata": {},
   "source": [
    "#### Decoding encoded sequnece  (like \\\\xc2\\\\xa0)"
   ]
  },
  {
   "cell_type": "code",
   "execution_count": 54,
   "id": "dd1fb5a1",
   "metadata": {},
   "outputs": [
    {
     "name": "stdout",
     "output_type": "stream",
     "text": [
      "\n",
      " column:Date\n",
      "\\\\xc2\\\\xa010/7/2015\n",
      "\n",
      " column:Startup Name\n",
      "                                      BYJU’S\n",
      "                                  \"BYJU\\\\'S\"\n",
      "                What\\\\xe2\\\\x80\\\\x99s Up Life\n",
      "                        Byju\\\\xe2\\\\x80\\\\x99s\n",
      "             Creator\\\\xe2\\\\x80\\\\x99s Gurukul\n",
      "                        Byju\\\\xe2\\\\x80\\\\x99s\n",
      "                        SERV\\\\xe2\\\\x80\\\\x99D\n",
      "                        BYJU\\\\xe2\\\\x80\\\\x99s\n",
      "                        Byju\\\\xe2\\\\x80\\\\x99s\n",
      "                       \\\\xc2\\\\xa0CloudCherry\n",
      "                     Let\\xe2\\x80\\x99s Barter\n",
      "       Don\\\\xe2\\\\x80\\\\x99t Scratch Your Head\n",
      "                        Byju\\\\xe2\\\\x80\\\\x99s\n",
      "                             Alef\\\\nMobitech\n",
      "                        PlanMy\\\\nMedicalTrip\n",
      "                     Carl\\\\xe2\\\\x80\\\\x99s Jr\n",
      "NearBuy (previously\\\\xc2\\\\xa0 groupon India)\n",
      "                    \\\\xc2\\\\xa0News in shorts\n",
      "                         \\\\xc2\\\\xa0Bluestone\n",
      "                          \\\\xc2\\\\xa0Shopsity\n",
      "                          \\\\xc2\\\\xa0Notesgen\n",
      "                \\\\xc2\\\\xa0Infinity Assurance\n",
      "              \\\\xc2\\\\xa0Footprints Education\n",
      "                    \\\\xc2\\\\xa0Loylty Rewards\n",
      "                             \\\\xc2\\\\xa0Ameyo\n",
      "                          \\\\xc2\\\\xa0Mamagoto\n",
      "                         \\\\xc2\\\\xa0Satvacart\n",
      "                         \\\\xc2\\\\xa0Nudgespot\n",
      "                       Faaso\\\\xe2\\\\x80\\\\x99s\n",
      "\n",
      " column:Industry Vertical\n",
      "     Hyperlocal\\\\xc2\\\\xa0 Grocery Delivery Service\n",
      "WiFi \\xe2\\x80\\x93 first Cloud communication pla...\n",
      "                  Mobile Growth Hacking\\\\nPlatform\n",
      "    Women Ethnic Wear\\\\xc2\\\\xa0 Online Marketplace\n",
      "Location based Nightlife recommendation\\\\xc2\\\\x...\n",
      "          Luxury goods\\\\xc2\\\\xa0 Shopping Platform\n",
      "ECommerce Brands\\\\xe2\\\\x80\\\\x99 Full Service Ag...\n",
      "             Home Design & D\\\\xc3\\\\xa9cor platform\n",
      "        Chain of Tea Caf\\\\xc3\\\\xa9\\\\xe2\\\\x80\\\\x99s\n",
      "           App security\\\\xc2\\\\xa0 testing platform\n",
      "            Home Design & D\\\\xc3\\\\xa9cor solutions\n",
      "              \\\\xc2\\\\xa0News Aggregator mobile app\n",
      "                  \\\\xc2\\\\xa0Online Jewellery Store\n",
      "             \\\\xc2\\\\xa0Fashion Info Aggregator App\n",
      "          \\\\xc2\\\\xa0Online Study Notes Marketplace\n",
      "\\\\xc2\\\\xa0Warranty Programs Service Administration\n",
      "                        \\\\xc2\\\\xa0Pre-School Chain\n",
      "\\\\xc2\\\\xa0Premium Loyalty Rewards Point Management\n",
      "        \\\\xc2\\\\xa0Contact Center Software Platform\n",
      "          \\\\xc2\\\\xa0Casual Dining restaurant Chain\n",
      "                 \\\\xc2\\\\xa0Online Grocery Delivery\n",
      "            Online home d\\\\xc3\\\\xa9cor marketplace\n",
      "                     Healthcare\\\\nService provider\n",
      "                        Online Home D\\\\xc3\\\\xa9cor\n",
      "                     Online Furnishing\\\\neCommerce\n",
      "               Interactive\\\\xc2\\\\xa0 How-To Guides\n",
      "               OnDemand\\\\nMobile Handyman Services\n",
      "\n",
      " column:Sub-Vertical\n",
      "              News and ebooks Mobile App\\\\xc2\\\\xa0\n",
      "Applied Artificial Intelligence and IoT focused...\n",
      "    \\\\xc2\\\\xa0Customer Sourcing Platform\\\\xc2\\\\xa0\n",
      "Post-Purchase Customer Engagement Platform\\\\xc2...\n",
      "      \"Women\\\\'s Fashion Clothing Online Platform\"\n",
      "                       Credit + payment mobile app\n",
      "parenting blog and kids\\\\xe2\\\\x80\\\\x99 events d...\n",
      " Mobile SAAS\\\\xc2\\\\xa0 ECommerce platform for SMEs\n",
      "   Gesture based\\\\xc2\\\\xa0 Smartwatch manufacturer\n",
      " Hyperlocal Discovery\\\\xc2\\\\xa0 & Rewards platform\n",
      "        Social Commerce\\\\xc2\\\\xa0 Fashion platform\n",
      "  Cloud based\\\\xc2\\\\xa0 health monitoring platform\n",
      "        proximity based\\\\xc2\\\\xa0 Rewards platform\n",
      "     Hyperlocal\\\\xc2\\\\xa0 Communication Mobile app\n",
      "        Women\\xe2\\x80\\x99s Fashion Apparel eTailer\n",
      "      Doctor & Clinic\\\\xc2\\\\xa0 Discovery Platform\n",
      "  Online Women\\\\xe2\\\\x80\\\\x99s Fashion Marketplace\n",
      "      Men\\\\xe2\\\\x80\\\\x99s Grooming Product etailer\n",
      "Organic,\\\\xc2\\\\xa0 Natural\\\\xc2\\\\xa0 Food subst...\n",
      "             Women\\\\xe2\\\\x80\\\\x99s Fashion etailer\n",
      "\\\\nLoans Comparison platform\\\\n\\\\n\\\\n\\\\n     (a...\n",
      "  Online Women\\\\xe2\\\\x80\\\\x99s Fashion Marketplace\n",
      "     Children\\\\xe2\\\\x80\\\\x99s Entertainment Portal\n",
      "         Invoice discounting\\\\xc2\\\\xa0 Marketplace\n",
      "    Women\\\\xe2\\\\x80\\\\x99s Fashion ECommerce Portal\n",
      "Children\\xe2\\x80\\x99s Entertainment Games & Pro...\n",
      "              Women\\\\xe2\\\\x80\\\\x99s health Tracker\n",
      "   Interior Design & Home D\\\\xc3\\\\xa9cor Solutions\n",
      "             SAAS DIY\\\\xc2\\\\xa0 ECommerce Platform\n",
      "               Home D\\\\xc3\\\\xa9cor Product etailer\n",
      "\n",
      " column:City\n",
      "    \\\\xc2\\\\xa0Noida\n",
      "\\\\xc2\\\\xa0Bangalore\n",
      "  \\\\xc2\\\\xa0Gurgaon\n",
      "\\\\xc2\\\\xa0New Delhi\n",
      "\\\\xc2\\\\xa0New Delhi\n",
      "  \\\\xc2\\\\xa0Gurgaon\n",
      "   \\\\xc2\\\\xa0Mumbai\n",
      "  \\\\xc2\\\\xa0Gurgaon\n",
      "\\\\xc2\\\\xa0New Delhi\n",
      "  \\\\xc2\\\\xa0Gurgaon\n",
      "\n",
      " column:Investors Name\n",
      "India Quotient and LetsVenture\\\\xe2\\\\x80\\\\x99s ...\n",
      "Sequoia India, Hillhouse Capital, Alphabet\\\\xe2...\n",
      "Norwest Venture Partners, CDC Group, the UK\\\\xe...\n",
      "Lakestar and Jungle Ventures, Softbank\\\\xe2\\\\x8...\n",
      "DST Global and Lightspeed Venture Partners\\\\xe2...\n",
      "                                    KDDI\\\\xc2\\\\xa0\n",
      "CLP Holdings Group, Innogy, \\\\xc3\\\\x98rstead, a...\n",
      "Vertex Ventures Southeast Asia (SEA) and India ...\n",
      "                           CDC Group plc\\\\xc2\\\\xa0\n",
      "Sunil Kant Munjal, Hero Electronix\\\\xe2\\\\x80\\\\x...\n",
      "            \"Kedaraa Capital, Ontario Teachers\\\\'\"\n",
      "Titan Co Ltd, Tata Group\\\\xe2\\\\x80\\\\x99s watch ...\n",
      "                                Factor[e] Ventures\n",
      "                   Undisclosed HNI\\\\xe2\\\\x80\\\\x99s\n",
      "Accel Partners, IDG Ventures, Kalaari Capital,\\...\n",
      "   Falcon Edge Capital,\\\\xc2\\\\xa0 Capital Advisers\n",
      "Vellayan Subbiah, Jonathan Boutelle, Rajan Anan...\n",
      "        Lahiri Music\\\\xe2\\\\x80\\\\x99s family office\n",
      "                         Labruyere Eberl\\\\xc3\\\\xa9\n",
      "Accel Partners, Nandan Nilekani\\\\xe2\\\\x80\\\\x99s...\n",
      "                          L\\\\xe2\\\\x80\\\\x99Occitane\n",
      "B Capital Group, Ignition Partners, Greycroft, ...\n",
      "Tencent,\\\\xc2\\\\xa0 ru-Net, RSI Fund, Thrive Cap...\n",
      "Sharad Sharma, Rajan Anandan,\\\\xc2\\\\xa0 Amit Ra...\n",
      "Venk Krishnan, MJ Aravind, Vikram Kotak, Jayant...\n",
      " Indian Angel Network, Let\\\\xe2\\\\x80\\\\x99s Venture\n",
      "        RB Investments,\\\\xc2\\\\xa0 Kaleden Holdings\n",
      "Delta Partners, Sequoia India,\\\\xc2\\\\xa0 Mayfie...\n",
      "Vijay Shekhar Sharma, Pravin Gandhi,\\\\xc2\\\\xa0 ...\n",
      "GrowX Ventures, Sunil Kalra, Arun Venkatachalam...\n",
      "ByteDance, Arun Sarin, Matrix Partners, Sequoia...\n",
      "Venturra Capital, Sequoia India, Susquehanna In...\n",
      "Dheeraj Jain, Palash Jain, Anupam Mittal, Ameer...\n",
      "Blume Ventures, Sachin Bansal, Vijay Shekhar Sh...\n",
      "Globevestor Angel Fund, Devendra Rane, Ravi Jai...\n",
      "            YourNest Angel Fund\\\\xc2\\\\xa0 & Others\n",
      "Sequoia Capital, Rohit Bansal, Kunal Bahl, Sand...\n",
      "           Mumbai Angels,\\\\xc2\\\\xa0 Times Internet\n",
      "                          L\\\\xe2\\\\x80\\\\x99Occitane\n",
      "Kludein LLC\\\\nPhanindra Sama, Narayan Ramachand...\n",
      "Bhavish Aggarwal, Binny Bansal,\\\\xc2\\\\xa0 Rajan...\n",
      "          Wipro Ventures,\\\\xc2\\\\xa0 Lumis Partners\n",
      "         T V Mohandas Pai,\\\\xc2\\\\xa0 Aarin Capital\n",
      "Aspada Advisors, IDG Ventures,\\\\xc2\\\\xa0 Invent...\n",
      "Ontario Teachers\\\\xe2\\\\x80\\\\x99 Pension Plan & ...\n",
      "             Blume Ventures,\\\\xc2\\\\xa0 Tracxn Labs\n",
      "Omidyar Network,\\\\xc2\\\\xa0 Vikram Lal, Abhijit ...\n",
      "Lalitesh Katragadda,\\\\xc2\\\\xa0 Ganayantrika Sys...\n",
      "Matt Mullenweg, Adam D\\\\xe2\\\\x80\\\\x99Angelo, Ad...\n",
      "Hyderabad Angels, Lalit Mangal,\\\\xc2\\\\xa0 Vikas...\n",
      "Unilazer Fund,\\\\xc2\\\\xa0 Phanindra Sama, Peyush...\n",
      "          Sa\\\\xc3\\\\xafd Business School Seed Fund.\n",
      "Lashit Sanghvi, Nikhil Vora, Venkat Vardhan,Moh...\n",
      "ru-Net, Sequoia Capital,\\\\xc2\\\\xa0 Lightbox Ven...\n",
      "Extreme Venture Partners\\\\xc2\\\\xa0 William Bissell\n",
      "Segnel Venture, Shinji Kimura, Sundar Chanrai, ...\n",
      "Rajan Anandan, Mike Galgon, Ravi Gururaj, Ashim...\n",
      "     TV Mohandas Pai\\\\xe2\\\\x80\\\\x99s family office\n",
      "S.D. Shibulal, Kris Gopalakrishnan, Srinath Bat...\n",
      "IDG Ventures India,\\\\xc2\\\\xa0 Accel Partners India\n",
      "Manish Kheterpal, Alok Mittal,\\\\xc2\\\\xa0 Puneet...\n",
      "    Sanjeev Kapoor,\\\\xc2\\\\xa0 Ravi Saxena & Others\n",
      "            Sean O\\\\xe2\\\\x80\\\\x99Sullivan & Others\n",
      "WestBridge Capital, Omidyar Network, Elevar Equ...\n",
      "SoftBank Group, Greenoaks Capital, Sequoia Capi...\n",
      "Horizons Ventures, Capricorn Investment Group, ...\n",
      "Amit Ranjan, Vijay Shekhar Sharma, Kunal Bahl, ...\n",
      "                            \\\\xc2\\\\xa0Tiger Global\n",
      "\\\\xc2\\\\xa0IvyCap Ventures, Accel Partners, Drag...\n",
      "        \\\\xc2\\\\xa0 Sandeep Aggarwal, Teruhide Sato\n",
      "\\\\xc2\\\\xa0Rajeev Saraf, Arvind Jha, R. Satya Na...\n",
      "                    \\\\xc2\\\\xa0Indian Angel Network\n",
      " \\\\xc2\\\\xa0LetsVenture, Kumar Bansal, Kshitij Jain\n",
      "                         \\\\xc2\\\\xa0IndianIdeas.com\n",
      "                 \\\\xc2\\\\xa0Forum Synergies PE Fund\n",
      "                           \\\\xc2\\\\xa0Goldman Sachs\n",
      "                        \\\\xc2\\\\xa0Palaash Ventures\n",
      "          growX ventures,\\\\xc2\\\\xa0 Manish Singhal\n",
      "IDG Ventures India, Omidyar Network, Sherpalo V...\n",
      "Paytm, SAIF Partners,\\\\xc2\\\\xa0 Tiger Global Ma...\n",
      "YouWeCan Ventures,\\\\xc2\\\\xa0 Aprameya Radhakrishna\n",
      "Sharad Sharma, Rajan Anandan, Sunil Kalra, Amit...\n",
      " Tiger Global,\\\\xc2\\\\xa0 Nirvana Ventures Advisors\n",
      "Natarajan Iyer,Rajesh Sawhney,\\\\xc2\\\\xa0 & othe...\n",
      "Arihant Patni, Vishal Khare,\\\\xc2\\\\xa0 Viswanat...\n",
      "           SAIF Partners,\\\\xc2\\\\xa0 Accel Partners\n",
      "Fidelity Growth Partners India, SAIF Partners,\\...\n",
      "       Rajendra Gogri,\\\\xc2\\\\xa0 Chandrakant Gogri\n",
      "Silicon Valley Ventures, NEA Ventures, Valiant ...\n",
      "Ajai Chowdhry, Ashvin Chadha, Yogesh Bansal,\\\\n...\n",
      "Ah! Ventures, Calcutta Angels,\\\\xc2\\\\xa0 91Spri...\n",
      "           VentureEast,\\\\xc2\\\\xa0 Varaprasad Reddy\n",
      "               CA Media LP,\\\\xc2\\\\xa0 Start Media.\n",
      "Zodius Capital, Ru-Net, Kalaari Capital,\\\\xc2\\\\...\n",
      "Unitus Seed Fund\\\\nNarayan Ramachandran, Bijou ...\n",
      "\n",
      " column:Investment Type\n",
      "  Seed\\\\nFunding\n",
      "  Seed\\\\nFunding\n",
      "  Seed\\\\nFunding\n",
      "  Seed\\\\nFunding\n",
      "  Seed\\\\nFunding\n",
      "  Seed\\\\nFunding\n",
      "  Seed\\\\nFunding\n",
      "  Seed\\\\nFunding\n",
      "  Seed\\\\nFunding\n",
      "  Seed\\\\nFunding\n",
      "  Seed\\\\nFunding\n",
      "  Seed\\\\nFunding\n",
      "  Seed\\\\nFunding\n",
      "  Seed\\\\nFunding\n",
      "  Seed\\\\nFunding\n",
      "  Seed\\\\nFunding\n",
      "  Seed\\\\nFunding\n",
      "  Seed\\\\nFunding\n",
      "  Seed\\\\nFunding\n",
      "  Seed\\\\nFunding\n",
      "  Seed\\\\nFunding\n",
      "  Seed\\\\nFunding\n",
      "  Seed\\\\nFunding\n",
      "  Seed\\\\nFunding\n",
      "  Seed\\\\nFunding\n",
      "  Seed\\\\nFunding\n",
      "  Seed\\\\nFunding\n",
      "  Seed\\\\nFunding\n",
      "  Seed\\\\nFunding\n",
      "  Seed\\\\nFunding\n",
      "Private\\\\nEquity\n",
      "\n",
      " column:Amount (USD)\n",
      "         14,342,000+\n",
      "\\\\xc2\\\\xa020,000,000\n",
      "\\\\xc2\\\\xa016,200,000\n",
      "       \\\\xc2\\\\xa0N/A\n",
      "       \\\\xc2\\\\xa0N/A\n",
      "   \\\\xc2\\\\xa0600,000\n",
      "   \\\\xc2\\\\xa0685,000\n",
      "\\\\xc2\\\\xa019,350,000\n",
      " \\\\xc2\\\\xa05,000,000\n",
      "\\\\xc2\\\\xa010,000,000\n",
      "       \\\\xc2\\\\xa0N/A\n",
      "       \\\\xc2\\\\xa0N/A\n",
      "\n",
      " column:Remarks\n",
      "           part of $40M Series B round\n",
      "         Part of $12M Series B funding\n",
      "late Stage (part of $500M funding rnd)\n",
      "     Late Stage (Alibaba @ 40% equity)\n",
      "                Series C\\\\n(More here)\n",
      "                    \\\\xc2\\\\xa0Series B\n",
      "                  \\\\xc2\\\\xa0Late Stage\n",
      "                    \\\\xc2\\\\xa0Series A\n",
      "                    \\\\xc2\\\\xa0Series A\n",
      "                              1% stake\n",
      "      Strategic Investment (25% stake)\n",
      "                  Grant + Seed funding\n",
      "                      Valuation at $4M\n"
     ]
    }
   ],
   "source": [
    "def has_special_chars(text):\n",
    "    if not isinstance(text, str):\n",
    "        return False\n",
    "    \n",
    "    return bool(re.search(r'[^\\w\\s.,;:!?\"\\'()&@#\\/-]',text))\n",
    "\n",
    "special_char_rows = {}\n",
    "\n",
    "text_cols = df.select_dtypes(include='object').columns\n",
    "\n",
    "for col in text_cols:\n",
    "    mask = df[col].apply(has_special_chars)\n",
    "    if mask.any():\n",
    "        special_char_rows[col] = df[mask][col]\n",
    "\n",
    "for col, rows in special_char_rows.items():\n",
    "    print(f\"\\n column:{col}\")\n",
    "    print(rows.to_string(index=False))"
   ]
  },
  {
   "cell_type": "code",
   "execution_count": 55,
   "id": "aa605e02",
   "metadata": {},
   "outputs": [],
   "source": [
    "import pandas as pd\n",
    "import re\n",
    "import html\n",
    "\n",
    "# Function to clean text\n",
    "def clean_text(text):\n",
    "    if pd.isna(text):\n",
    "        return text\n",
    "    # Decode escape sequences\n",
    "    text = bytes(text, \"utf-8\").decode(\"unicode_escape\", errors=\"ignore\")\n",
    "    # Remove residual unicode characters\n",
    "    text = text.encode(\"latin1\", errors=\"ignore\").decode(\"utf-8\", errors=\"ignore\")\n",
    "    # Replace multiple spaces/newlines with single space\n",
    "    text = re.sub(r'\\s+', ' ', text)\n",
    "    # Remove leading/trailing spaces and quotes\n",
    "    text = text.strip(\" '\\\"\")\n",
    "    text = re.sub(r'\\(adsbygoogle\\s*=\\s*window\\.adsbygoogle\\s*\\|\\|\\s*\\[\\]\\)\\.push\\(\\{\\}\\);', '', text)\n",
    "    text = re.sub(r'\\+', '', text)\n",
    "    return text\n",
    "\n"
   ]
  },
  {
   "cell_type": "code",
   "execution_count": 56,
   "id": "157f605f",
   "metadata": {},
   "outputs": [],
   "source": [
    "columns_to_clean = ['Date', 'Startup Name', 'Industry Vertical', 'Sub-Vertical',\n",
    "       'City', 'Investors Name', 'Investment Type', 'Amount (USD)', 'Remarks']\n",
    "for _ in range(2):\n",
    "       for col in columns_to_clean:\n",
    "              df[col] = df[col].astype(str).apply(clean_text)"
   ]
  },
  {
   "cell_type": "code",
   "execution_count": 57,
   "id": "992c7195",
   "metadata": {},
   "outputs": [
    {
     "name": "stdout",
     "output_type": "stream",
     "text": [
      "\n",
      " column:Startup Name\n",
      "                 BYJU’S\n",
      "         What’s Up Life\n",
      "                 Byju’s\n",
      "      Creator’s Gurukul\n",
      "                 Byju’s\n",
      "                 SERV’D\n",
      "                 BYJU’s\n",
      "                 Byju’s\n",
      "           Let’s Barter\n",
      "Don’t Scratch Your Head\n",
      "                 Byju’s\n",
      "              Carl’s Jr\n",
      "                Faaso’s\n",
      "\n",
      " column:Industry Vertical\n",
      "WiFi – first Cloud communication platform\n",
      "    ECommerce Brands’ Full Service Agency\n",
      "                      Chain of Tea Café’s\n",
      "\n",
      " column:Sub-Vertical\n",
      "parenting blog and kids’ events discovery platform\n",
      "                   Women’s Fashion Apparel eTailer\n",
      "                Online Women’s Fashion Marketplace\n",
      "                    Men’s Grooming Product etailer\n",
      "                           Women’s Fashion etailer\n",
      "                Online Women’s Fashion Marketplace\n",
      "                   Children’s Entertainment Portal\n",
      "                  Women’s Fashion ECommerce Portal\n",
      "         Children’s Entertainment Games & Products\n",
      "                            Women’s health Tracker\n",
      "\n",
      " column:Investors Name\n",
      "       India Quotient and LetsVenture’s Angel Fund\n",
      "Sequoia India, Hillhouse Capital, Alphabet’s gr...\n",
      "Norwest Venture Partners, CDC Group, the UK’s D...\n",
      "Lakestar and Jungle Ventures, Softbank’s DeepCore.\n",
      "DST Global and Lightspeed Venture Partners’ glo...\n",
      "Sunil Kant Munjal, Hero Electronix’s corporate ...\n",
      "Titan Co Ltd, Tata Group’s watch and jewellery ...\n",
      "                                Factor[e] Ventures\n",
      "                                 Undisclosed HNI’s\n",
      "                      Lahiri Music’s family office\n",
      "Accel Partners, Nandan Nilekani’s NRJN Trust, M...\n",
      "                                        L’Occitane\n",
      "               Indian Angel Network, Let’s Venture\n",
      "                                        L’Occitane\n",
      "           Ontario Teachers’ Pension Plan & Others\n",
      "Matt Mullenweg, Adam D’Angelo, Aditya Agarwal, ...\n",
      "Segnel Venture, Shinji Kimura, Sundar Chanrai, ...\n",
      "                   TV Mohandas Pai’s family office\n",
      "                          Sean O’Sullivan & Others\n",
      "\n",
      " column:Remarks\n",
      "           part of $40M Series B round\n",
      "         Part of $12M Series B funding\n",
      "late Stage (part of $500M funding rnd)\n",
      "     Late Stage (Alibaba @ 40% equity)\n",
      "                              1% stake\n",
      "      Strategic Investment (25% stake)\n",
      "                      Valuation at $4M\n"
     ]
    }
   ],
   "source": [
    "def has_special_chars(text):\n",
    "    if not isinstance(text, str):\n",
    "        return False\n",
    "    \n",
    "    return bool(re.search(r'[^\\w\\s.,;:!?\"\\'()&@#\\/-]',text))\n",
    "\n",
    "special_char_rows = {}\n",
    "\n",
    "text_cols = df.select_dtypes(include='object').columns\n",
    "\n",
    "for col in text_cols:\n",
    "    mask = df[col].apply(has_special_chars)\n",
    "    if mask.any():\n",
    "        special_char_rows[col] = df[mask][col]\n",
    "\n",
    "for col, rows in special_char_rows.items():\n",
    "    print(f\"\\n column:{col}\")\n",
    "    print(rows.to_string(index=False))"
   ]
  },
  {
   "cell_type": "markdown",
   "id": "2621d414",
   "metadata": {},
   "source": [
    "#### Cleaning with null values"
   ]
  },
  {
   "cell_type": "code",
   "execution_count": 58,
   "id": "b788de10",
   "metadata": {},
   "outputs": [
    {
     "data": {
      "text/html": [
       "<div>\n",
       "<style scoped>\n",
       "    .dataframe tbody tr th:only-of-type {\n",
       "        vertical-align: middle;\n",
       "    }\n",
       "\n",
       "    .dataframe tbody tr th {\n",
       "        vertical-align: top;\n",
       "    }\n",
       "\n",
       "    .dataframe thead th {\n",
       "        text-align: right;\n",
       "    }\n",
       "</style>\n",
       "<table border=\"1\" class=\"dataframe\">\n",
       "  <thead>\n",
       "    <tr style=\"text-align: right;\">\n",
       "      <th></th>\n",
       "      <th>Sr No</th>\n",
       "      <th>Date</th>\n",
       "      <th>Startup Name</th>\n",
       "      <th>Industry Vertical</th>\n",
       "      <th>Sub-Vertical</th>\n",
       "      <th>City</th>\n",
       "      <th>Investors Name</th>\n",
       "      <th>Investment Type</th>\n",
       "      <th>Amount (USD)</th>\n",
       "      <th>Remarks</th>\n",
       "    </tr>\n",
       "  </thead>\n",
       "  <tbody>\n",
       "    <tr>\n",
       "      <th>0</th>\n",
       "      <td>1</td>\n",
       "      <td>09-01-2020</td>\n",
       "      <td>BYJU’S</td>\n",
       "      <td>E-Tech</td>\n",
       "      <td>E-learning</td>\n",
       "      <td>Bengaluru</td>\n",
       "      <td>Tiger Global Management</td>\n",
       "      <td>Private Equity Round</td>\n",
       "      <td>20,00,00,000</td>\n",
       "      <td>nan</td>\n",
       "    </tr>\n",
       "    <tr>\n",
       "      <th>1</th>\n",
       "      <td>2</td>\n",
       "      <td>13-01-2020</td>\n",
       "      <td>Shuttl</td>\n",
       "      <td>Transportation</td>\n",
       "      <td>App based shuttle service</td>\n",
       "      <td>Gurgaon</td>\n",
       "      <td>Susquehanna Growth Equity</td>\n",
       "      <td>Series C</td>\n",
       "      <td>80,48,394</td>\n",
       "      <td>nan</td>\n",
       "    </tr>\n",
       "    <tr>\n",
       "      <th>2</th>\n",
       "      <td>3</td>\n",
       "      <td>09-01-2020</td>\n",
       "      <td>Mamaearth</td>\n",
       "      <td>E-commerce</td>\n",
       "      <td>Retailer of baby and toddler products</td>\n",
       "      <td>Bengaluru</td>\n",
       "      <td>Sequoia Capital India</td>\n",
       "      <td>Series B</td>\n",
       "      <td>1,83,58,860</td>\n",
       "      <td>nan</td>\n",
       "    </tr>\n",
       "    <tr>\n",
       "      <th>3</th>\n",
       "      <td>4</td>\n",
       "      <td>02-01-2020</td>\n",
       "      <td>https://www.wealthbucket.in/</td>\n",
       "      <td>FinTech</td>\n",
       "      <td>Online Investment</td>\n",
       "      <td>New Delhi</td>\n",
       "      <td>Vinod Khatumal</td>\n",
       "      <td>Pre-series A</td>\n",
       "      <td>30,00,000</td>\n",
       "      <td>nan</td>\n",
       "    </tr>\n",
       "    <tr>\n",
       "      <th>4</th>\n",
       "      <td>5</td>\n",
       "      <td>02-01-2020</td>\n",
       "      <td>Fashor</td>\n",
       "      <td>Fashion and Apparel</td>\n",
       "      <td>Embroiled Clothes For Women</td>\n",
       "      <td>Mumbai</td>\n",
       "      <td>Sprout Venture Partners</td>\n",
       "      <td>Seed Round</td>\n",
       "      <td>18,00,000</td>\n",
       "      <td>nan</td>\n",
       "    </tr>\n",
       "    <tr>\n",
       "      <th>...</th>\n",
       "      <td>...</td>\n",
       "      <td>...</td>\n",
       "      <td>...</td>\n",
       "      <td>...</td>\n",
       "      <td>...</td>\n",
       "      <td>...</td>\n",
       "      <td>...</td>\n",
       "      <td>...</td>\n",
       "      <td>...</td>\n",
       "      <td>...</td>\n",
       "    </tr>\n",
       "    <tr>\n",
       "      <th>3039</th>\n",
       "      <td>3040</td>\n",
       "      <td>29-01-2015</td>\n",
       "      <td>Printvenue</td>\n",
       "      <td>nan</td>\n",
       "      <td>nan</td>\n",
       "      <td>nan</td>\n",
       "      <td>Asia Pacific Internet Group</td>\n",
       "      <td>Private Equity</td>\n",
       "      <td>45,00,000</td>\n",
       "      <td>nan</td>\n",
       "    </tr>\n",
       "    <tr>\n",
       "      <th>3040</th>\n",
       "      <td>3041</td>\n",
       "      <td>29-01-2015</td>\n",
       "      <td>Graphene</td>\n",
       "      <td>nan</td>\n",
       "      <td>nan</td>\n",
       "      <td>nan</td>\n",
       "      <td>KARSEMVEN Fund</td>\n",
       "      <td>Private Equity</td>\n",
       "      <td>8,25,000</td>\n",
       "      <td>Govt backed VC Fund</td>\n",
       "    </tr>\n",
       "    <tr>\n",
       "      <th>3041</th>\n",
       "      <td>3042</td>\n",
       "      <td>30-01-2015</td>\n",
       "      <td>Mad Street Den</td>\n",
       "      <td>nan</td>\n",
       "      <td>nan</td>\n",
       "      <td>nan</td>\n",
       "      <td>Exfinity Fund, GrowX Ventures.</td>\n",
       "      <td>Private Equity</td>\n",
       "      <td>15,00,000</td>\n",
       "      <td>nan</td>\n",
       "    </tr>\n",
       "    <tr>\n",
       "      <th>3042</th>\n",
       "      <td>3043</td>\n",
       "      <td>30-01-2015</td>\n",
       "      <td>Simplotel</td>\n",
       "      <td>nan</td>\n",
       "      <td>nan</td>\n",
       "      <td>nan</td>\n",
       "      <td>MakeMyTrip</td>\n",
       "      <td>Private Equity</td>\n",
       "      <td>nan</td>\n",
       "      <td>Strategic Funding, Minority stake</td>\n",
       "    </tr>\n",
       "    <tr>\n",
       "      <th>3043</th>\n",
       "      <td>3044</td>\n",
       "      <td>31-01-2015</td>\n",
       "      <td>couponmachine.in</td>\n",
       "      <td>nan</td>\n",
       "      <td>nan</td>\n",
       "      <td>nan</td>\n",
       "      <td>UK based Group of Angel Investors</td>\n",
       "      <td>Seed Funding</td>\n",
       "      <td>1,40,000</td>\n",
       "      <td>nan</td>\n",
       "    </tr>\n",
       "  </tbody>\n",
       "</table>\n",
       "<p>3044 rows × 10 columns</p>\n",
       "</div>"
      ],
      "text/plain": [
       "      Sr No        Date                  Startup Name    Industry Vertical  \\\n",
       "0         1  09-01-2020                        BYJU’S               E-Tech   \n",
       "1         2  13-01-2020                        Shuttl       Transportation   \n",
       "2         3  09-01-2020                     Mamaearth           E-commerce   \n",
       "3         4  02-01-2020  https://www.wealthbucket.in/              FinTech   \n",
       "4         5  02-01-2020                        Fashor  Fashion and Apparel   \n",
       "...     ...         ...                           ...                  ...   \n",
       "3039   3040  29-01-2015                    Printvenue                  nan   \n",
       "3040   3041  29-01-2015                      Graphene                  nan   \n",
       "3041   3042  30-01-2015                Mad Street Den                  nan   \n",
       "3042   3043  30-01-2015                     Simplotel                  nan   \n",
       "3043   3044  31-01-2015              couponmachine.in                  nan   \n",
       "\n",
       "                               Sub-Vertical       City  \\\n",
       "0                                E-learning  Bengaluru   \n",
       "1                 App based shuttle service    Gurgaon   \n",
       "2     Retailer of baby and toddler products  Bengaluru   \n",
       "3                         Online Investment  New Delhi   \n",
       "4               Embroiled Clothes For Women     Mumbai   \n",
       "...                                     ...        ...   \n",
       "3039                                    nan        nan   \n",
       "3040                                    nan        nan   \n",
       "3041                                    nan        nan   \n",
       "3042                                    nan        nan   \n",
       "3043                                    nan        nan   \n",
       "\n",
       "                         Investors Name       Investment Type  Amount (USD)  \\\n",
       "0               Tiger Global Management  Private Equity Round  20,00,00,000   \n",
       "1             Susquehanna Growth Equity              Series C     80,48,394   \n",
       "2                 Sequoia Capital India              Series B   1,83,58,860   \n",
       "3                        Vinod Khatumal          Pre-series A     30,00,000   \n",
       "4               Sprout Venture Partners            Seed Round     18,00,000   \n",
       "...                                 ...                   ...           ...   \n",
       "3039        Asia Pacific Internet Group        Private Equity     45,00,000   \n",
       "3040                     KARSEMVEN Fund        Private Equity      8,25,000   \n",
       "3041     Exfinity Fund, GrowX Ventures.        Private Equity     15,00,000   \n",
       "3042                         MakeMyTrip        Private Equity           nan   \n",
       "3043  UK based Group of Angel Investors          Seed Funding      1,40,000   \n",
       "\n",
       "                                Remarks  \n",
       "0                                   nan  \n",
       "1                                   nan  \n",
       "2                                   nan  \n",
       "3                                   nan  \n",
       "4                                   nan  \n",
       "...                                 ...  \n",
       "3039                                nan  \n",
       "3040                Govt backed VC Fund  \n",
       "3041                                nan  \n",
       "3042  Strategic Funding, Minority stake  \n",
       "3043                                nan  \n",
       "\n",
       "[3044 rows x 10 columns]"
      ]
     },
     "execution_count": 58,
     "metadata": {},
     "output_type": "execute_result"
    }
   ],
   "source": [
    "df"
   ]
  },
  {
   "cell_type": "code",
   "execution_count": 59,
   "id": "8a535d8c",
   "metadata": {},
   "outputs": [
    {
     "name": "stdout",
     "output_type": "stream",
     "text": [
      "<class 'pandas.core.frame.DataFrame'>\n",
      "RangeIndex: 3044 entries, 0 to 3043\n",
      "Data columns (total 10 columns):\n",
      " #   Column             Non-Null Count  Dtype \n",
      "---  ------             --------------  ----- \n",
      " 0   Sr No              3044 non-null   int64 \n",
      " 1   Date               3044 non-null   object\n",
      " 2   Startup Name       3044 non-null   object\n",
      " 3   Industry Vertical  3044 non-null   object\n",
      " 4   Sub-Vertical       3044 non-null   object\n",
      " 5   City               3044 non-null   object\n",
      " 6   Investors Name     3044 non-null   object\n",
      " 7   Investment Type    3044 non-null   object\n",
      " 8   Amount (USD)       3044 non-null   object\n",
      " 9   Remarks            3044 non-null   object\n",
      "dtypes: int64(1), object(9)\n",
      "memory usage: 237.9+ KB\n"
     ]
    }
   ],
   "source": [
    "df.info()"
   ]
  },
  {
   "cell_type": "markdown",
   "id": "f09685da",
   "metadata": {},
   "source": [
    "### Cleaning date column"
   ]
  },
  {
   "cell_type": "code",
   "execution_count": 61,
   "id": "02c6e2e4",
   "metadata": {},
   "outputs": [
    {
     "data": {
      "text/plain": [
       "array(['09-01-2020', '13-01-2020', '02-01-2020', ..., '29-01-2015',\n",
       "       '30-01-2015', '31-01-2015'], shape=(1035,), dtype=object)"
      ]
     },
     "execution_count": 61,
     "metadata": {},
     "output_type": "execute_result"
    }
   ],
   "source": [
    "df[\"Date\"].unique()"
   ]
  },
  {
   "cell_type": "code",
   "execution_count": 62,
   "id": "ad189d19",
   "metadata": {},
   "outputs": [
    {
     "name": "stdout",
     "output_type": "stream",
     "text": [
      "['05/072018' '01/07/015' '10/7/2015' '12/05.2015' '13/04.2015'\n",
      " '15/01.2015' '22/01//2015']\n"
     ]
    }
   ],
   "source": [
    "pattern = r'^\\d{2}-\\d{2}-\\d{4}$'\n",
    "invalid_dates=df[~df['Date'].str.match(pattern, na=False)]['Date'].unique()\n",
    "print(invalid_dates)"
   ]
  },
  {
   "cell_type": "code",
   "execution_count": 63,
   "id": "9a02dcfb",
   "metadata": {},
   "outputs": [
    {
     "name": "stdout",
     "output_type": "stream",
     "text": [
      "['05-072018' '01-07-015' '10-7-2015']\n"
     ]
    }
   ],
   "source": [
    "df['Date'] = df['Date'].str.replace('/','-',regex=False)\\\n",
    "                                            .str.replace('.','-',regex=False)\\\n",
    "                                            .str.replace('--','-',regex=False)\n",
    "pattern = r'^\\d{2}-\\d{2}-\\d{4}$'\n",
    "invalid_dates=df[~df['Date'].str.match(pattern, na=False)]['Date'].unique()\n",
    "print(invalid_dates)"
   ]
  },
  {
   "cell_type": "code",
   "execution_count": 64,
   "id": "70b1a8c0",
   "metadata": {},
   "outputs": [
    {
     "name": "stdout",
     "output_type": "stream",
     "text": [
      "['01-07-015' '10-7-2015']\n"
     ]
    }
   ],
   "source": [
    "df['Date'] = df['Date'].str.replace(r'(\\d{2})-(\\d{2})(\\d{4})',r'\\1-\\2-\\3',regex=True)\n",
    "pattern = r'^\\d{2}-\\d{2}-\\d{4}$'\n",
    "invalid_dates=df[~df['Date'].str.match(pattern, na=False)]['Date'].unique()\n",
    "print(invalid_dates)"
   ]
  },
  {
   "cell_type": "code",
   "execution_count": 66,
   "id": "72a0fa77",
   "metadata": {},
   "outputs": [
    {
     "name": "stdout",
     "output_type": "stream",
     "text": [
      "['10-7-2015']\n"
     ]
    },
    {
     "name": "stderr",
     "output_type": "stream",
     "text": [
      "C:\\Users\\ankit\\AppData\\Local\\Temp\\ipykernel_12280\\1895661104.py:8: FutureWarning: DataFrame.applymap has been deprecated. Use DataFrame.map instead.\n",
      "  df=df.applymap(fix_short_year)\n"
     ]
    }
   ],
   "source": [
    "def fix_short_year(date_str):\n",
    "    if isinstance(date_str,str) and re.fullmatch(r'\\d{2}-\\d{2}-\\d{3}',date_str):\n",
    "        parts = date_str.split('-')\n",
    "        day,month,year = parts\n",
    "        if len(year) == 3:\n",
    "            return f\"{day}-{month}-2{year[-3:]}\"\n",
    "    return date_str\n",
    "df=df.applymap(fix_short_year)\n",
    "pattern = r'^\\d{2}-\\d{2}-\\d{4}$'\n",
    "invalid_dates=df[~df['Date'].str.match(pattern, na=False)]['Date'].unique()\n",
    "print(invalid_dates)"
   ]
  },
  {
   "cell_type": "code",
   "execution_count": 67,
   "id": "ef05a830",
   "metadata": {},
   "outputs": [],
   "source": [
    "\n",
    "def clean_and_format_date(date_str):\n",
    "    if not isinstance(date_str,str):\n",
    "        return date_str\n",
    "    \n",
    "    cleaned = re.sub(r'^[^0-9]*','',date_str)\n",
    "    match = re.search(r'(\\d{1,2})[-\\/](\\d{1,2})[-\\/](\\d{4})', cleaned)\n",
    "    if match:\n",
    "        day = match.group(1).zfill(2)\n",
    "        month = match.group(2).zfill(2)\n",
    "        year = match.group(3)\n",
    "    return f\"{day}-{month}-{year}\"\n",
    "\n",
    "df['Date'] = df['Date'].apply(clean_and_format_date)"
   ]
  },
  {
   "cell_type": "code",
   "execution_count": 68,
   "id": "9b408c64",
   "metadata": {},
   "outputs": [
    {
     "name": "stdout",
     "output_type": "stream",
     "text": [
      "[]\n"
     ]
    }
   ],
   "source": [
    "pattern = r'^\\d{2}-\\d{2}-\\d{4}$'\n",
    "invalid_dates=df[~df['Date'].str.match(pattern, na=False)]['Date'].unique()\n",
    "print(invalid_dates)"
   ]
  },
  {
   "cell_type": "markdown",
   "id": "8fb2693e",
   "metadata": {},
   "source": [
    "#### Changing data type of date column to datetime"
   ]
  },
  {
   "cell_type": "code",
   "execution_count": 69,
   "id": "514321eb",
   "metadata": {},
   "outputs": [
    {
     "data": {
      "text/plain": [
       "Sr No                         int64\n",
       "Date                 datetime64[ns]\n",
       "Startup Name                 object\n",
       "Industry Vertical            object\n",
       "Sub-Vertical                 object\n",
       "City                         object\n",
       "Investors Name               object\n",
       "Investment Type              object\n",
       "Amount (USD)                 object\n",
       "Remarks                      object\n",
       "dtype: object"
      ]
     },
     "execution_count": 69,
     "metadata": {},
     "output_type": "execute_result"
    }
   ],
   "source": [
    "df['Date'] = pd.to_datetime(df['Date'],format='%d-%m-%Y')\n",
    "df.dtypes"
   ]
  },
  {
   "cell_type": "markdown",
   "id": "d7cc93c9",
   "metadata": {},
   "source": [
    "### Cleaning Startup Name column"
   ]
  },
  {
   "cell_type": "code",
   "execution_count": 70,
   "id": "4e7fc296",
   "metadata": {},
   "outputs": [
    {
     "name": "stdout",
     "output_type": "stream",
     "text": [
      "0                             BYJU’S\n",
      "3       https://www.wealthbucket.in/\n",
      "16                      Lenskart.com\n",
      "19      Sunstone Eduversity Pvt. Ltd\n",
      "53                         Lo! Foods\n",
      "                    ...             \n",
      "3031                 Englishleap.com\n",
      "3033                   Caratlane.com\n",
      "3037                    CarDekho.com\n",
      "3038                   Grabhouse.com\n",
      "3043                couponmachine.in\n",
      "Name: Startup Name, Length: 152, dtype: object\n"
     ]
    }
   ],
   "source": [
    "special_char=df[df['Startup Name'].str.contains(r'[^a-zA-Z0-9\\s]',regex=True)]\n",
    "print(special_char['Startup Name'])"
   ]
  },
  {
   "cell_type": "code",
   "execution_count": 206,
   "id": "54aa0617",
   "metadata": {},
   "outputs": [
    {
     "name": "stdout",
     "output_type": "stream",
     "text": [
      "0                                              BYJU'S\n",
      "53                                          Lo! Foods\n",
      "67                                             BYJU'S\n",
      "118     Samunnati Financial Intermediation & Services\n",
      "130                                   A&R Bon Vivants\n",
      "138                       Aavishkaar-Intellecap Group\n",
      "239                                    What's Up Life\n",
      "712                                            Byju's\n",
      "713                                 Creator's Gurukul\n",
      "796                                            i-lend\n",
      "983                                            Byju's\n",
      "1153                                           SERV'D\n",
      "1164                                           BYJU's\n",
      "1347                                       CheersOye!\n",
      "1356                                           Byju's\n",
      "1398                                     Let's Barter\n",
      "1514                          Don't Scratch Your Head\n",
      "1880                                           Byju's\n",
      "2282                                           M-TAXI\n",
      "2340                                S-Cube Futuretech\n",
      "2495                                        Carl's Jr\n",
      "2509                                        WOW! MOMO\n",
      "2790                                         Crown-it\n",
      "2954                                          Faaso's\n",
      "Name: Startup Name, dtype: object\n"
     ]
    }
   ],
   "source": [
    "df['Startup Name']=df['Startup Name']\\\n",
    "    .str.replace(r'\\.com','',regex=True)\\\n",
    "    .str.replace(r'\\.in','',regex=True)\\\n",
    "    .str.replace(r'\\.co','',regex=True)\\\n",
    "    .str.replace(r'Pvt. Ltd','',regex=True)\\\n",
    "    .str.replace(r'\\.bio','',regex=True)\\\n",
    "    .str.replace(r'https://www.','',regex=True)\\\n",
    "    .str.replace(r\"\\\\'\",\"'\",regex=True)\\\n",
    "    .str.replace(r'#','',regex=True)\\\n",
    "    .str.replace(r'/','',regex=True)\\\n",
    "    .str.replace(r'\"','',regex=True)\\\n",
    "    .str.replace(r\"'\",\"’\",regex=True)\\\n",
    "    .str.replace(r'\\.','',regex=True)\\\n",
    "    .str.replace(r'’',\"'\",regex = True)\\\n",
    "    .str.replace(r'\\[.*?\\]|\\(.*?\\)|\\{.?\\}','',regex=True).str.strip()\n",
    "special_char=df[df['Startup Name'].str.contains(r'[^a-zA-Z0-9\\s]',regex=True)]\n",
    "print(special_char['Startup Name'])"
   ]
  },
  {
   "cell_type": "markdown",
   "id": "f26b2fa9",
   "metadata": {},
   "source": [
    "### Cleaning Industry Vertical Column"
   ]
  },
  {
   "cell_type": "code",
   "execution_count": 72,
   "id": "bcdb3683",
   "metadata": {},
   "outputs": [
    {
     "data": {
      "text/plain": [
       "0                    E-Tech\n",
       "1            Transportation\n",
       "2                E-commerce\n",
       "3                   FinTech\n",
       "4       Fashion and Apparel\n",
       "               ...         \n",
       "3039                    nan\n",
       "3040                    nan\n",
       "3041                    nan\n",
       "3042                    nan\n",
       "3043                    nan\n",
       "Name: Industry Vertical, Length: 3044, dtype: object"
      ]
     },
     "execution_count": 72,
     "metadata": {},
     "output_type": "execute_result"
    }
   ],
   "source": [
    "df['Industry Vertical']"
   ]
  },
  {
   "cell_type": "code",
   "execution_count": 73,
   "id": "6ef45693",
   "metadata": {},
   "outputs": [],
   "source": [
    "df['Industry Vertical'] = df['Industry Vertical'].replace(r'(?i)^nan$', np.nan, regex = True)"
   ]
  },
  {
   "cell_type": "code",
   "execution_count": 74,
   "id": "d280a263",
   "metadata": {},
   "outputs": [
    {
     "data": {
      "text/plain": [
       "np.int64(171)"
      ]
     },
     "execution_count": 74,
     "metadata": {},
     "output_type": "execute_result"
    }
   ],
   "source": [
    "df['Industry Vertical'].isnull().sum()"
   ]
  },
  {
   "cell_type": "code",
   "execution_count": null,
   "id": "5810db27",
   "metadata": {},
   "outputs": [
    {
     "data": {
      "text/plain": [
       "<bound method IndexOpsMixin.value_counts of 0                    E-Tech\n",
       "1            Transportation\n",
       "2                E-commerce\n",
       "3                   FinTech\n",
       "4       Fashion and Apparel\n",
       "               ...         \n",
       "3039                    NaN\n",
       "3040                    NaN\n",
       "3041                    NaN\n",
       "3042                    NaN\n",
       "3043                    NaN\n",
       "Name: Industry Vertical, Length: 3044, dtype: object>"
      ]
     },
     "execution_count": 76,
     "metadata": {},
     "output_type": "execute_result"
    }
   ],
   "source": [
    "df['Industry Vertical'].value_counts"
   ]
  },
  {
   "cell_type": "markdown",
   "id": "c8f29bda",
   "metadata": {},
   "source": [
    "### Training an ML model to fill NA values in Industry Vertical column\n"
   ]
  },
  {
   "cell_type": "code",
   "execution_count": 78,
   "id": "2cbed64f",
   "metadata": {},
   "outputs": [
    {
     "name": "stderr",
     "output_type": "stream",
     "text": [
      "C:\\Users\\ankit\\AppData\\Local\\Temp\\ipykernel_12280\\2472196287.py:12: SettingWithCopyWarning: \n",
      "A value is trying to be set on a copy of a slice from a DataFrame.\n",
      "Try using .loc[row_indexer,col_indexer] = value instead\n",
      "\n",
      "See the caveats in the documentation: https://pandas.pydata.org/pandas-docs/stable/user_guide/indexing.html#returning-a-view-versus-a-copy\n",
      "  df_train[features] = imputer.fit_transform(df_train[features])\n",
      "C:\\Users\\ankit\\AppData\\Local\\Temp\\ipykernel_12280\\2472196287.py:13: SettingWithCopyWarning: \n",
      "A value is trying to be set on a copy of a slice from a DataFrame.\n",
      "Try using .loc[row_indexer,col_indexer] = value instead\n",
      "\n",
      "See the caveats in the documentation: https://pandas.pydata.org/pandas-docs/stable/user_guide/indexing.html#returning-a-view-versus-a-copy\n",
      "  df_predict[features] = imputer.transform(df_predict[features])\n"
     ]
    }
   ],
   "source": [
    "from sklearn.ensemble import RandomForestClassifier\n",
    "from sklearn.preprocessing import OneHotEncoder, LabelEncoder\n",
    "from sklearn.impute import SimpleImputer\n",
    "\n",
    "df_train = df[df['Industry Vertical'].notna()]\n",
    "df_predict = df[df['Industry Vertical'].isna()]\n",
    "\n",
    "features = [\"Startup Name\", \"Industry Vertical\", \"Sub-Vertical\",\"City\", \"Investment Type\", \"Amount (USD)\"]\n",
    "target = \"Industry Vertical\"\n",
    "\n",
    "imputer = SimpleImputer(strategy='most_frequent')\n",
    "df_train[features] = imputer.fit_transform(df_train[features])\n",
    "df_predict[features] = imputer.transform(df_predict[features])\n",
    "\n",
    "encoder = OneHotEncoder(handle_unknown='ignore', sparse_output=False)\n",
    "x_train = encoder.fit_transform(df_train[features])\n",
    "x_predict = encoder.transform(df_predict[features])\n",
    "\n",
    "label_encoder = LabelEncoder()\n",
    "y_train = label_encoder.fit_transform(df_train[target])\n",
    "\n",
    "model = RandomForestClassifier(random_state=42)\n",
    "model.fit(x_train, y_train)\n",
    "\n",
    "predicted = model.predict(x_predict)\n",
    "predicted_labels = label_encoder.inverse_transform(predicted)\n",
    "\n",
    "df.loc[df['Industry Vertical'].isna(), 'Industry Vertical'] = predicted_labels\n"
   ]
  },
  {
   "cell_type": "code",
   "execution_count": 79,
   "id": "b381cad0",
   "metadata": {},
   "outputs": [
    {
     "data": {
      "text/plain": [
       "0                    E-Tech\n",
       "1            Transportation\n",
       "2                E-commerce\n",
       "3                   FinTech\n",
       "4       Fashion and Apparel\n",
       "               ...         \n",
       "3039      Consumer Internet\n",
       "3040      Consumer Internet\n",
       "3041      Consumer Internet\n",
       "3042      Consumer Internet\n",
       "3043      Consumer Internet\n",
       "Name: Industry Vertical, Length: 3044, dtype: object"
      ]
     },
     "execution_count": 79,
     "metadata": {},
     "output_type": "execute_result"
    }
   ],
   "source": [
    "df['Industry Vertical']"
   ]
  },
  {
   "cell_type": "code",
   "execution_count": 80,
   "id": "3ebbd1ef",
   "metadata": {},
   "outputs": [
    {
     "data": {
      "text/html": [
       "<div>\n",
       "<style scoped>\n",
       "    .dataframe tbody tr th:only-of-type {\n",
       "        vertical-align: middle;\n",
       "    }\n",
       "\n",
       "    .dataframe tbody tr th {\n",
       "        vertical-align: top;\n",
       "    }\n",
       "\n",
       "    .dataframe thead th {\n",
       "        text-align: right;\n",
       "    }\n",
       "</style>\n",
       "<table border=\"1\" class=\"dataframe\">\n",
       "  <thead>\n",
       "    <tr style=\"text-align: right;\">\n",
       "      <th></th>\n",
       "      <th>Sr No</th>\n",
       "      <th>Date</th>\n",
       "      <th>Startup Name</th>\n",
       "      <th>Industry Vertical</th>\n",
       "      <th>Sub-Vertical</th>\n",
       "      <th>City</th>\n",
       "      <th>Investors Name</th>\n",
       "      <th>Investment Type</th>\n",
       "      <th>Amount (USD)</th>\n",
       "      <th>Remarks</th>\n",
       "    </tr>\n",
       "  </thead>\n",
       "  <tbody>\n",
       "    <tr>\n",
       "      <th>0</th>\n",
       "      <td>1</td>\n",
       "      <td>2020-01-09</td>\n",
       "      <td>BYJU’S</td>\n",
       "      <td>E-Tech</td>\n",
       "      <td>E-learning</td>\n",
       "      <td>Bengaluru</td>\n",
       "      <td>Tiger Global Management</td>\n",
       "      <td>Private Equity Round</td>\n",
       "      <td>20,00,00,000</td>\n",
       "      <td>nan</td>\n",
       "    </tr>\n",
       "    <tr>\n",
       "      <th>1</th>\n",
       "      <td>2</td>\n",
       "      <td>2020-01-13</td>\n",
       "      <td>Shuttl</td>\n",
       "      <td>Transportation</td>\n",
       "      <td>App based shuttle service</td>\n",
       "      <td>Gurgaon</td>\n",
       "      <td>Susquehanna Growth Equity</td>\n",
       "      <td>Series C</td>\n",
       "      <td>80,48,394</td>\n",
       "      <td>nan</td>\n",
       "    </tr>\n",
       "    <tr>\n",
       "      <th>2</th>\n",
       "      <td>3</td>\n",
       "      <td>2020-01-09</td>\n",
       "      <td>Mamaearth</td>\n",
       "      <td>E-commerce</td>\n",
       "      <td>Retailer of baby and toddler products</td>\n",
       "      <td>Bengaluru</td>\n",
       "      <td>Sequoia Capital India</td>\n",
       "      <td>Series B</td>\n",
       "      <td>1,83,58,860</td>\n",
       "      <td>nan</td>\n",
       "    </tr>\n",
       "    <tr>\n",
       "      <th>3</th>\n",
       "      <td>4</td>\n",
       "      <td>2020-01-02</td>\n",
       "      <td>wealthbucket</td>\n",
       "      <td>FinTech</td>\n",
       "      <td>Online Investment</td>\n",
       "      <td>New Delhi</td>\n",
       "      <td>Vinod Khatumal</td>\n",
       "      <td>Pre-series A</td>\n",
       "      <td>30,00,000</td>\n",
       "      <td>nan</td>\n",
       "    </tr>\n",
       "    <tr>\n",
       "      <th>4</th>\n",
       "      <td>5</td>\n",
       "      <td>2020-01-02</td>\n",
       "      <td>Fashor</td>\n",
       "      <td>Fashion and Apparel</td>\n",
       "      <td>Embroiled Clothes For Women</td>\n",
       "      <td>Mumbai</td>\n",
       "      <td>Sprout Venture Partners</td>\n",
       "      <td>Seed Round</td>\n",
       "      <td>18,00,000</td>\n",
       "      <td>nan</td>\n",
       "    </tr>\n",
       "    <tr>\n",
       "      <th>...</th>\n",
       "      <td>...</td>\n",
       "      <td>...</td>\n",
       "      <td>...</td>\n",
       "      <td>...</td>\n",
       "      <td>...</td>\n",
       "      <td>...</td>\n",
       "      <td>...</td>\n",
       "      <td>...</td>\n",
       "      <td>...</td>\n",
       "      <td>...</td>\n",
       "    </tr>\n",
       "    <tr>\n",
       "      <th>3039</th>\n",
       "      <td>3040</td>\n",
       "      <td>2015-01-29</td>\n",
       "      <td>Printvenue</td>\n",
       "      <td>Consumer Internet</td>\n",
       "      <td>nan</td>\n",
       "      <td>nan</td>\n",
       "      <td>Asia Pacific Internet Group</td>\n",
       "      <td>Private Equity</td>\n",
       "      <td>45,00,000</td>\n",
       "      <td>nan</td>\n",
       "    </tr>\n",
       "    <tr>\n",
       "      <th>3040</th>\n",
       "      <td>3041</td>\n",
       "      <td>2015-01-29</td>\n",
       "      <td>Graphene</td>\n",
       "      <td>Consumer Internet</td>\n",
       "      <td>nan</td>\n",
       "      <td>nan</td>\n",
       "      <td>KARSEMVEN Fund</td>\n",
       "      <td>Private Equity</td>\n",
       "      <td>8,25,000</td>\n",
       "      <td>Govt backed VC Fund</td>\n",
       "    </tr>\n",
       "    <tr>\n",
       "      <th>3041</th>\n",
       "      <td>3042</td>\n",
       "      <td>2015-01-30</td>\n",
       "      <td>Mad Street Den</td>\n",
       "      <td>Consumer Internet</td>\n",
       "      <td>nan</td>\n",
       "      <td>nan</td>\n",
       "      <td>Exfinity Fund, GrowX Ventures.</td>\n",
       "      <td>Private Equity</td>\n",
       "      <td>15,00,000</td>\n",
       "      <td>nan</td>\n",
       "    </tr>\n",
       "    <tr>\n",
       "      <th>3042</th>\n",
       "      <td>3043</td>\n",
       "      <td>2015-01-30</td>\n",
       "      <td>Simplotel</td>\n",
       "      <td>Consumer Internet</td>\n",
       "      <td>nan</td>\n",
       "      <td>nan</td>\n",
       "      <td>MakeMyTrip</td>\n",
       "      <td>Private Equity</td>\n",
       "      <td>nan</td>\n",
       "      <td>Strategic Funding, Minority stake</td>\n",
       "    </tr>\n",
       "    <tr>\n",
       "      <th>3043</th>\n",
       "      <td>3044</td>\n",
       "      <td>2015-01-31</td>\n",
       "      <td>couponmachine</td>\n",
       "      <td>Consumer Internet</td>\n",
       "      <td>nan</td>\n",
       "      <td>nan</td>\n",
       "      <td>UK based Group of Angel Investors</td>\n",
       "      <td>Seed Funding</td>\n",
       "      <td>1,40,000</td>\n",
       "      <td>nan</td>\n",
       "    </tr>\n",
       "  </tbody>\n",
       "</table>\n",
       "<p>3044 rows × 10 columns</p>\n",
       "</div>"
      ],
      "text/plain": [
       "      Sr No       Date    Startup Name    Industry Vertical  \\\n",
       "0         1 2020-01-09          BYJU’S               E-Tech   \n",
       "1         2 2020-01-13          Shuttl       Transportation   \n",
       "2         3 2020-01-09       Mamaearth           E-commerce   \n",
       "3         4 2020-01-02    wealthbucket              FinTech   \n",
       "4         5 2020-01-02          Fashor  Fashion and Apparel   \n",
       "...     ...        ...             ...                  ...   \n",
       "3039   3040 2015-01-29      Printvenue    Consumer Internet   \n",
       "3040   3041 2015-01-29        Graphene    Consumer Internet   \n",
       "3041   3042 2015-01-30  Mad Street Den    Consumer Internet   \n",
       "3042   3043 2015-01-30       Simplotel    Consumer Internet   \n",
       "3043   3044 2015-01-31   couponmachine    Consumer Internet   \n",
       "\n",
       "                               Sub-Vertical       City  \\\n",
       "0                                E-learning  Bengaluru   \n",
       "1                 App based shuttle service    Gurgaon   \n",
       "2     Retailer of baby and toddler products  Bengaluru   \n",
       "3                         Online Investment  New Delhi   \n",
       "4               Embroiled Clothes For Women     Mumbai   \n",
       "...                                     ...        ...   \n",
       "3039                                    nan        nan   \n",
       "3040                                    nan        nan   \n",
       "3041                                    nan        nan   \n",
       "3042                                    nan        nan   \n",
       "3043                                    nan        nan   \n",
       "\n",
       "                         Investors Name       Investment Type  Amount (USD)  \\\n",
       "0               Tiger Global Management  Private Equity Round  20,00,00,000   \n",
       "1             Susquehanna Growth Equity              Series C     80,48,394   \n",
       "2                 Sequoia Capital India              Series B   1,83,58,860   \n",
       "3                        Vinod Khatumal          Pre-series A     30,00,000   \n",
       "4               Sprout Venture Partners            Seed Round     18,00,000   \n",
       "...                                 ...                   ...           ...   \n",
       "3039        Asia Pacific Internet Group        Private Equity     45,00,000   \n",
       "3040                     KARSEMVEN Fund        Private Equity      8,25,000   \n",
       "3041     Exfinity Fund, GrowX Ventures.        Private Equity     15,00,000   \n",
       "3042                         MakeMyTrip        Private Equity           nan   \n",
       "3043  UK based Group of Angel Investors          Seed Funding      1,40,000   \n",
       "\n",
       "                                Remarks  \n",
       "0                                   nan  \n",
       "1                                   nan  \n",
       "2                                   nan  \n",
       "3                                   nan  \n",
       "4                                   nan  \n",
       "...                                 ...  \n",
       "3039                                nan  \n",
       "3040                Govt backed VC Fund  \n",
       "3041                                nan  \n",
       "3042  Strategic Funding, Minority stake  \n",
       "3043                                nan  \n",
       "\n",
       "[3044 rows x 10 columns]"
      ]
     },
     "execution_count": 80,
     "metadata": {},
     "output_type": "execute_result"
    }
   ],
   "source": [
    "df"
   ]
  },
  {
   "cell_type": "code",
   "execution_count": 81,
   "id": "0d4f8d18",
   "metadata": {},
   "outputs": [
    {
     "data": {
      "text/plain": [
       "np.int64(0)"
      ]
     },
     "execution_count": 81,
     "metadata": {},
     "output_type": "execute_result"
    }
   ],
   "source": [
    "df['Industry Vertical'].isnull().sum()"
   ]
  },
  {
   "cell_type": "markdown",
   "id": "790b9273",
   "metadata": {},
   "source": [
    "#### Cleaning Sub-Vertical Column"
   ]
  },
  {
   "cell_type": "code",
   "execution_count": 83,
   "id": "cae0d976",
   "metadata": {},
   "outputs": [],
   "source": [
    "df['Sub-Vertical'] = df['Sub-Vertical'].replace(r'(?i)^nan$', np.nan, regex = True)"
   ]
  },
  {
   "cell_type": "code",
   "execution_count": 84,
   "id": "fa832e45",
   "metadata": {},
   "outputs": [
    {
     "data": {
      "text/plain": [
       "Sr No                  0\n",
       "Date                   0\n",
       "Startup Name           0\n",
       "Industry Vertical      0\n",
       "Sub-Vertical         936\n",
       "City                   0\n",
       "Investors Name         0\n",
       "Investment Type        0\n",
       "Amount (USD)           0\n",
       "Remarks                0\n",
       "dtype: int64"
      ]
     },
     "execution_count": 84,
     "metadata": {},
     "output_type": "execute_result"
    }
   ],
   "source": [
    "df.isnull().sum()"
   ]
  },
  {
   "cell_type": "markdown",
   "id": "a0b954a4",
   "metadata": {},
   "source": [
    "### Training an ML model to fill NA values in Sub-Vertical column\n"
   ]
  },
  {
   "cell_type": "code",
   "execution_count": 86,
   "id": "012df634",
   "metadata": {},
   "outputs": [
    {
     "name": "stderr",
     "output_type": "stream",
     "text": [
      "C:\\Users\\ankit\\AppData\\Local\\Temp\\ipykernel_12280\\3439127576.py:12: SettingWithCopyWarning: \n",
      "A value is trying to be set on a copy of a slice from a DataFrame.\n",
      "Try using .loc[row_indexer,col_indexer] = value instead\n",
      "\n",
      "See the caveats in the documentation: https://pandas.pydata.org/pandas-docs/stable/user_guide/indexing.html#returning-a-view-versus-a-copy\n",
      "  df_train[features] = imputer.fit_transform(df_train[features])\n",
      "C:\\Users\\ankit\\AppData\\Local\\Temp\\ipykernel_12280\\3439127576.py:13: SettingWithCopyWarning: \n",
      "A value is trying to be set on a copy of a slice from a DataFrame.\n",
      "Try using .loc[row_indexer,col_indexer] = value instead\n",
      "\n",
      "See the caveats in the documentation: https://pandas.pydata.org/pandas-docs/stable/user_guide/indexing.html#returning-a-view-versus-a-copy\n",
      "  df_predict[features] = imputer.transform(df_predict[features])\n"
     ]
    }
   ],
   "source": [
    "from sklearn.ensemble import RandomForestClassifier\n",
    "from sklearn.preprocessing import OneHotEncoder, LabelEncoder\n",
    "from sklearn.impute import SimpleImputer\n",
    "\n",
    "df_train = df[df['Sub-Vertical'].notna()]\n",
    "df_predict = df[df['Sub-Vertical'].isna()]\n",
    "\n",
    "features = [\"Startup Name\", \"Industry Vertical\", \"Sub-Vertical\",\"City\", \"Investment Type\", \"Amount (USD)\"]\n",
    "target = \"Sub-Vertical\"\n",
    "\n",
    "imputer = SimpleImputer(strategy='most_frequent')\n",
    "df_train[features] = imputer.fit_transform(df_train[features])\n",
    "df_predict[features] = imputer.transform(df_predict[features])\n",
    "\n",
    "encoder = OneHotEncoder(handle_unknown='ignore', sparse_output=False)\n",
    "x_train = encoder.fit_transform(df_train[features])\n",
    "x_predict = encoder.transform(df_predict[features])\n",
    "\n",
    "label_encoder = LabelEncoder()\n",
    "y_train = label_encoder.fit_transform(df_train[target])\n",
    "\n",
    "model = RandomForestClassifier(random_state=42)\n",
    "model.fit(x_train, y_train)\n",
    "\n",
    "predicted = model.predict(x_predict)\n",
    "predicted_labels = label_encoder.inverse_transform(predicted)\n",
    "\n",
    "df.loc[df['Sub-Vertical'].isna(), 'Sub-Vertical'] = predicted_labels\n"
   ]
  },
  {
   "cell_type": "code",
   "execution_count": 87,
   "id": "903b81f1",
   "metadata": {},
   "outputs": [
    {
     "data": {
      "text/plain": [
       "0                                  E-learning\n",
       "1                   App based shuttle service\n",
       "2       Retailer of baby and toddler products\n",
       "3                           Online Investment\n",
       "4                 Embroiled Clothes For Women\n",
       "                        ...                  \n",
       "3039                  Online Lending Platform\n",
       "3040                  Online Lending Platform\n",
       "3041                  Online Lending Platform\n",
       "3042                  Online Lending Platform\n",
       "3043                  Online Lending Platform\n",
       "Name: Sub-Vertical, Length: 3044, dtype: object"
      ]
     },
     "execution_count": 87,
     "metadata": {},
     "output_type": "execute_result"
    }
   ],
   "source": [
    "df['Sub-Vertical']"
   ]
  },
  {
   "cell_type": "code",
   "execution_count": 88,
   "id": "1136626c",
   "metadata": {},
   "outputs": [
    {
     "data": {
      "text/plain": [
       "Sr No                0\n",
       "Date                 0\n",
       "Startup Name         0\n",
       "Industry Vertical    0\n",
       "Sub-Vertical         0\n",
       "City                 0\n",
       "Investors Name       0\n",
       "Investment Type      0\n",
       "Amount (USD)         0\n",
       "Remarks              0\n",
       "dtype: int64"
      ]
     },
     "execution_count": 88,
     "metadata": {},
     "output_type": "execute_result"
    }
   ],
   "source": [
    "df.isnull().sum()"
   ]
  },
  {
   "cell_type": "code",
   "execution_count": 89,
   "id": "46ffa7ba",
   "metadata": {},
   "outputs": [
    {
     "data": {
      "text/plain": [
       "array(['E-learning', 'App based shuttle service',\n",
       "       'Retailer of baby and toddler products', ...,\n",
       "       'Coding Skill Showcase & Resume Builder',\n",
       "       'Hobby & Activity Class Aggregator', 'Interior Design Marketplace'],\n",
       "      shape=(1942,), dtype=object)"
      ]
     },
     "execution_count": 89,
     "metadata": {},
     "output_type": "execute_result"
    }
   ],
   "source": [
    "df['Sub-Vertical'].unique()"
   ]
  },
  {
   "cell_type": "markdown",
   "id": "490fae39",
   "metadata": {},
   "source": [
    "#### Cleaning City Column"
   ]
  },
  {
   "cell_type": "code",
   "execution_count": 93,
   "id": "0f50bbfa",
   "metadata": {},
   "outputs": [],
   "source": [
    "df['City'] = df['City'].replace(r'(?i)^nan$', np.nan, regex = True)"
   ]
  },
  {
   "cell_type": "code",
   "execution_count": 94,
   "id": "6d4a6a8d",
   "metadata": {},
   "outputs": [
    {
     "data": {
      "text/plain": [
       "Sr No                  0\n",
       "Date                   0\n",
       "Startup Name           0\n",
       "Industry Vertical      0\n",
       "Sub-Vertical           0\n",
       "City                 180\n",
       "Investors Name         0\n",
       "Investment Type        0\n",
       "Amount (USD)           0\n",
       "Remarks                0\n",
       "dtype: int64"
      ]
     },
     "execution_count": 94,
     "metadata": {},
     "output_type": "execute_result"
    }
   ],
   "source": [
    "df.isnull().sum()"
   ]
  },
  {
   "cell_type": "markdown",
   "id": "fa40c6ca",
   "metadata": {},
   "source": [
    "### Training an ML model to fill NA values in City column\n"
   ]
  },
  {
   "cell_type": "code",
   "execution_count": 95,
   "id": "fecde6df",
   "metadata": {},
   "outputs": [
    {
     "name": "stderr",
     "output_type": "stream",
     "text": [
      "C:\\Users\\ankit\\AppData\\Local\\Temp\\ipykernel_12280\\4167061211.py:12: SettingWithCopyWarning: \n",
      "A value is trying to be set on a copy of a slice from a DataFrame.\n",
      "Try using .loc[row_indexer,col_indexer] = value instead\n",
      "\n",
      "See the caveats in the documentation: https://pandas.pydata.org/pandas-docs/stable/user_guide/indexing.html#returning-a-view-versus-a-copy\n",
      "  df_train[features] = imputer.fit_transform(df_train[features])\n",
      "C:\\Users\\ankit\\AppData\\Local\\Temp\\ipykernel_12280\\4167061211.py:13: SettingWithCopyWarning: \n",
      "A value is trying to be set on a copy of a slice from a DataFrame.\n",
      "Try using .loc[row_indexer,col_indexer] = value instead\n",
      "\n",
      "See the caveats in the documentation: https://pandas.pydata.org/pandas-docs/stable/user_guide/indexing.html#returning-a-view-versus-a-copy\n",
      "  df_predict[features] = imputer.transform(df_predict[features])\n"
     ]
    }
   ],
   "source": [
    "from sklearn.ensemble import RandomForestClassifier\n",
    "from sklearn.preprocessing import OneHotEncoder, LabelEncoder\n",
    "from sklearn.impute import SimpleImputer\n",
    "\n",
    "df_train = df[df['City'].notna()]\n",
    "df_predict = df[df['City'].isna()]\n",
    "\n",
    "features = [\"Startup Name\", \"Industry Vertical\", \"Sub-Vertical\",\"City\", \"Investment Type\", \"Amount (USD)\"]\n",
    "target = \"City\"\n",
    "\n",
    "imputer = SimpleImputer(strategy='most_frequent')\n",
    "df_train[features] = imputer.fit_transform(df_train[features])\n",
    "df_predict[features] = imputer.transform(df_predict[features])\n",
    "\n",
    "encoder = OneHotEncoder(handle_unknown='ignore', sparse_output=False)\n",
    "x_train = encoder.fit_transform(df_train[features])\n",
    "x_predict = encoder.transform(df_predict[features])\n",
    "\n",
    "label_encoder = LabelEncoder()\n",
    "y_train = label_encoder.fit_transform(df_train[target])\n",
    "\n",
    "model = RandomForestClassifier(random_state=42)\n",
    "model.fit(x_train, y_train)\n",
    "\n",
    "predicted = model.predict(x_predict)\n",
    "predicted_labels = label_encoder.inverse_transform(predicted)\n",
    "\n",
    "df.loc[df['City'].isna(), 'City'] = predicted_labels\n"
   ]
  },
  {
   "cell_type": "code",
   "execution_count": 96,
   "metadata": {},
   "outputs": [
    {
     "data": {
      "text/plain": [
       "0       Bengaluru\n",
       "1         Gurgaon\n",
       "2       Bengaluru\n",
       "3       New Delhi\n",
       "4          Mumbai\n",
       "          ...    \n",
       "3039    Bangalore\n",
       "3040    Bangalore\n",
       "3041    Bangalore\n",
       "3042    Bangalore\n",
       "3043    Bangalore\n",
       "Name: City, Length: 3044, dtype: object"
      ]
     },
     "execution_count": 96,
     "metadata": {},
     "output_type": "execute_result"
    }
   ],
   "source": [
    "df['City']"
   ]
  },
  {
   "cell_type": "markdown",
   "id": "42427bbf",
   "metadata": {},
   "source": [
    "#### Correct names of Cities in City column"
   ]
  },
  {
   "cell_type": "code",
   "execution_count": 154,
   "id": "d9606cb1",
   "metadata": {},
   "outputs": [
    {
     "data": {
      "text/plain": [
       "array(['Bengaluru', 'Gurugram', 'New Delhi', 'Mumbai', 'Chennai', 'Pune',\n",
       "       'Noida', 'Faridabad', 'San Francisco', 'San Jose', 'Amritsar',\n",
       "       'Koramangala', 'Tulangan', 'Hyderabad', 'Burnsville', 'Menlo Park',\n",
       "       'Palo Alto', 'Santa Monica', 'Singapore', 'Tharamani', 'Andheri',\n",
       "       'Chembur', 'Nairobi', 'Haryana', 'New York', 'Karnataka', 'Bhopal',\n",
       "       'Jaipur', 'Nagpur', 'Indore', 'California', 'Ahmedabad',\n",
       "       'Rourkela', 'Srinagar', 'Bhubaneswar', 'Chandigarh', 'Kolkata',\n",
       "       'Coimbatore', 'Udaipur', 'Surat', 'Panaji', 'lucknow', 'Gaya',\n",
       "       'Vadodara', 'Thiruvananthapuram', 'Missouri', 'Gwalior', 'Karur',\n",
       "       'Udupi', 'Kochi', 'Agra', 'Hubballi', 'Kozhikode', 'Siliguri',\n",
       "       'Lucknow', 'Kanpur', 'London', 'Varanasi', 'Jodhpur', 'Boston',\n",
       "       'Belagavi'], dtype=object)"
      ]
     },
     "execution_count": 154,
     "metadata": {},
     "output_type": "execute_result"
    }
   ],
   "source": [
    "df['City'].unique()"
   ]
  },
  {
   "cell_type": "code",
   "execution_count": 157,
   "id": "e458accd",
   "metadata": {},
   "outputs": [
    {
     "data": {
      "text/plain": [
       "array(['Bengaluru', 'Gurugram', 'New Delhi', 'Mumbai', 'Chennai', 'Pune',\n",
       "       'Noida', 'Faridabad', 'San Francisco', 'San Jose', 'Amritsar',\n",
       "       'Koramangala', 'Tulangan', 'Hyderabad', 'Burnsville', 'Menlo Park',\n",
       "       'Palo Alto', 'Santa Monica', 'Singapore', 'Tharamani', 'Andheri',\n",
       "       'Chembur', 'Nairobi', 'Haryana', 'New York', 'Karnataka', 'Bhopal',\n",
       "       'Jaipur', 'Nagpur', 'Indore', 'California', 'Ahmedabad',\n",
       "       'Rourkela', 'Srinagar', 'Bhubaneswar', 'Chandigarh', 'Kolkata',\n",
       "       'Coimbatore', 'Udaipur', 'Surat', 'Panaji', 'Lucknow', 'Gaya',\n",
       "       'Vadodara', 'Thiruvananthapuram', 'Missouri', 'Gwalior', 'Karur',\n",
       "       'Udupi', 'Kochi', 'Agra', 'Hubballi', 'Kozhikode', 'Siliguri',\n",
       "       'Kanpur', 'London', 'Varanasi', 'Jodhpur', 'Boston', 'Belagavi'],\n",
       "      dtype=object)"
      ]
     },
     "execution_count": 157,
     "metadata": {},
     "output_type": "execute_result"
    }
   ],
   "source": [
    "df['City'] = df['City'].replace({'Gurgaon' : 'Gurugram', \n",
    "                                           'Delhi': 'New Delhi',\n",
    "                                           'Kormangala' : 'Koramangala',\n",
    "                                           'Taramani' : 'Tharamani',\n",
    "                                           'Mumbai/Bengaluru' : 'Mumbai',\n",
    "                                           'Bengaluru and Gurugram' : 'Bengaluru',\n",
    "                                           'India/Singapore' : 'New Delhi',\n",
    "                                           'India/US' : 'New York',\n",
    "                                           'New York, Bengaluru' : 'Bengaluru',\n",
    "                                           'India' : 'New Delhi',\n",
    "                                           'Delhi & Cambridge' : 'New Delhi',\n",
    "                                           'Ahemadabad' : 'Ahmedabad',\n",
    "                                           'Kolkatta' : 'Kolkata',\n",
    "                                           'Bangalore' : 'Bengaluru',\n",
    "                                           'Ahemdabad' : 'Ahmedabad',\n",
    "                                           'Bhubneswar' : 'Bhubaneswar',\n",
    "                                           'Nw Delhi' : 'New Delhi',\n",
    "                                           'Trivandrum' : 'Thiruvananthapuram',\n",
    "                                           'Missourie' : 'Missouri',\n",
    "                                           'Bangalore/ Bangkok' : 'Bengaluru',\n",
    "                                           'Hubli' : 'Hubballi',\n",
    "                                           'Kerala' : 'Thiruvananthapuram',\n",
    "                                           'Goa' : 'Panaji',\n",
    "                                           'Uttar Pradesh' : 'Lucknow',\n",
    "                                           'US' : 'New York',\n",
    "                                           'USA' : 'New York',\n",
    "                                           'SFO / Bangalore' : 'Bengaluru',\n",
    "                                           'Seattle / Bangalore' : 'Bengaluru',\n",
    "                                           'Pune/Seattle' : 'Pune',\n",
    "                                           'Pune / Dubai' : 'Pune',\n",
    "                                           'Bangalore / SFO' : 'Bengaluru',\n",
    "                                           'New Delhi / US' : 'New Delhi',\n",
    "                                           'Mumbai / UK' : 'Mumbai',\n",
    "                                            'Hyderabad/USA' : 'Hyderabad',\n",
    "                                            'Bangalore / Palo Alto' : 'Bengaluru',\n",
    "                                            'Mumbai / NY': 'Mumbai',\n",
    "                                            'USA/India' : 'New Delhi',\n",
    "                                            'Goa/Hyderabad' : 'Panaji',\n",
    "                                            'Noida / Singapore' : 'Noida',\n",
    "                                            'Belgaum' : 'Belagavi',\n",
    "                                            'Pune / US' : 'Pune',\n",
    "                                            'Chennai/ Singapore' : 'Chennai',\n",
    "                                            'Pune / Singapore' : 'Pune',\n",
    "                                            'Bangalore / San Mateo' : 'Bengaluru',\n",
    "                                            'New York/ India' : 'New York',\n",
    "                                            'US/India' : 'New Delhi',\n",
    "                                            'Gurgaon / SFO' : 'Gurugram',\n",
    "                                            'Bangalore / USA' : 'Bengaluru',\n",
    "                                            'New Delhi/ Houston' : 'New Delhi',\n",
    "                                            'Mumbai / Global' : 'Mumbai',\n",
    "                                            'India / US' : 'New Delhi',\n",
    "                                            'New Delhi / California' : 'New Delhi',\n",
    "                                            'Dallas / Hyderabad' : 'Hyderabad',\n",
    "                                            'San Jose,' : 'San Jose',\n",
    "                                            'lucknow' : 'Lucknow'\n",
    "                                           })\n",
    "df['City'].unique()"
   ]
  },
  {
   "cell_type": "code",
   "execution_count": 158,
   "id": "65c2954c",
   "metadata": {},
   "outputs": [
    {
     "data": {
      "text/html": [
       "<div>\n",
       "<style scoped>\n",
       "    .dataframe tbody tr th:only-of-type {\n",
       "        vertical-align: middle;\n",
       "    }\n",
       "\n",
       "    .dataframe tbody tr th {\n",
       "        vertical-align: top;\n",
       "    }\n",
       "\n",
       "    .dataframe thead th {\n",
       "        text-align: right;\n",
       "    }\n",
       "</style>\n",
       "<table border=\"1\" class=\"dataframe\">\n",
       "  <thead>\n",
       "    <tr style=\"text-align: right;\">\n",
       "      <th></th>\n",
       "      <th>Sr No</th>\n",
       "      <th>Date</th>\n",
       "      <th>Startup Name</th>\n",
       "      <th>Industry Vertical</th>\n",
       "      <th>Sub-Vertical</th>\n",
       "      <th>City</th>\n",
       "      <th>Investors Name</th>\n",
       "      <th>Investment Type</th>\n",
       "      <th>Amount (USD)</th>\n",
       "      <th>Remarks</th>\n",
       "    </tr>\n",
       "  </thead>\n",
       "  <tbody>\n",
       "    <tr>\n",
       "      <th>0</th>\n",
       "      <td>1</td>\n",
       "      <td>2020-01-09</td>\n",
       "      <td>BYJU’S</td>\n",
       "      <td>E-Tech</td>\n",
       "      <td>E-learning</td>\n",
       "      <td>Bengaluru</td>\n",
       "      <td>Tiger Global Management</td>\n",
       "      <td>Private Equity Round</td>\n",
       "      <td>20,00,00,000</td>\n",
       "      <td>nan</td>\n",
       "    </tr>\n",
       "    <tr>\n",
       "      <th>1</th>\n",
       "      <td>2</td>\n",
       "      <td>2020-01-13</td>\n",
       "      <td>Shuttl</td>\n",
       "      <td>Transportation</td>\n",
       "      <td>App based shuttle service</td>\n",
       "      <td>Gurugram</td>\n",
       "      <td>Susquehanna Growth Equity</td>\n",
       "      <td>Series C</td>\n",
       "      <td>80,48,394</td>\n",
       "      <td>nan</td>\n",
       "    </tr>\n",
       "    <tr>\n",
       "      <th>2</th>\n",
       "      <td>3</td>\n",
       "      <td>2020-01-09</td>\n",
       "      <td>Mamaearth</td>\n",
       "      <td>E-commerce</td>\n",
       "      <td>Retailer of baby and toddler products</td>\n",
       "      <td>Bengaluru</td>\n",
       "      <td>Sequoia Capital India</td>\n",
       "      <td>Series B</td>\n",
       "      <td>1,83,58,860</td>\n",
       "      <td>nan</td>\n",
       "    </tr>\n",
       "    <tr>\n",
       "      <th>3</th>\n",
       "      <td>4</td>\n",
       "      <td>2020-01-02</td>\n",
       "      <td>wealthbucket</td>\n",
       "      <td>FinTech</td>\n",
       "      <td>Online Investment</td>\n",
       "      <td>New Delhi</td>\n",
       "      <td>Vinod Khatumal</td>\n",
       "      <td>Pre-series A</td>\n",
       "      <td>30,00,000</td>\n",
       "      <td>nan</td>\n",
       "    </tr>\n",
       "    <tr>\n",
       "      <th>4</th>\n",
       "      <td>5</td>\n",
       "      <td>2020-01-02</td>\n",
       "      <td>Fashor</td>\n",
       "      <td>Fashion and Apparel</td>\n",
       "      <td>Embroiled Clothes For Women</td>\n",
       "      <td>Mumbai</td>\n",
       "      <td>Sprout Venture Partners</td>\n",
       "      <td>Seed Round</td>\n",
       "      <td>18,00,000</td>\n",
       "      <td>nan</td>\n",
       "    </tr>\n",
       "    <tr>\n",
       "      <th>...</th>\n",
       "      <td>...</td>\n",
       "      <td>...</td>\n",
       "      <td>...</td>\n",
       "      <td>...</td>\n",
       "      <td>...</td>\n",
       "      <td>...</td>\n",
       "      <td>...</td>\n",
       "      <td>...</td>\n",
       "      <td>...</td>\n",
       "      <td>...</td>\n",
       "    </tr>\n",
       "    <tr>\n",
       "      <th>3039</th>\n",
       "      <td>3040</td>\n",
       "      <td>2015-01-29</td>\n",
       "      <td>Printvenue</td>\n",
       "      <td>Consumer Internet</td>\n",
       "      <td>Online Lending Platform</td>\n",
       "      <td>Bengaluru</td>\n",
       "      <td>Asia Pacific Internet Group</td>\n",
       "      <td>Private Equity</td>\n",
       "      <td>45,00,000</td>\n",
       "      <td>nan</td>\n",
       "    </tr>\n",
       "    <tr>\n",
       "      <th>3040</th>\n",
       "      <td>3041</td>\n",
       "      <td>2015-01-29</td>\n",
       "      <td>Graphene</td>\n",
       "      <td>Consumer Internet</td>\n",
       "      <td>Online Lending Platform</td>\n",
       "      <td>Bengaluru</td>\n",
       "      <td>KARSEMVEN Fund</td>\n",
       "      <td>Private Equity</td>\n",
       "      <td>8,25,000</td>\n",
       "      <td>Govt backed VC Fund</td>\n",
       "    </tr>\n",
       "    <tr>\n",
       "      <th>3041</th>\n",
       "      <td>3042</td>\n",
       "      <td>2015-01-30</td>\n",
       "      <td>Mad Street Den</td>\n",
       "      <td>Consumer Internet</td>\n",
       "      <td>Online Lending Platform</td>\n",
       "      <td>Bengaluru</td>\n",
       "      <td>Exfinity Fund, GrowX Ventures.</td>\n",
       "      <td>Private Equity</td>\n",
       "      <td>15,00,000</td>\n",
       "      <td>nan</td>\n",
       "    </tr>\n",
       "    <tr>\n",
       "      <th>3042</th>\n",
       "      <td>3043</td>\n",
       "      <td>2015-01-30</td>\n",
       "      <td>Simplotel</td>\n",
       "      <td>Consumer Internet</td>\n",
       "      <td>Online Lending Platform</td>\n",
       "      <td>Bengaluru</td>\n",
       "      <td>MakeMyTrip</td>\n",
       "      <td>Private Equity</td>\n",
       "      <td>nan</td>\n",
       "      <td>Strategic Funding, Minority stake</td>\n",
       "    </tr>\n",
       "    <tr>\n",
       "      <th>3043</th>\n",
       "      <td>3044</td>\n",
       "      <td>2015-01-31</td>\n",
       "      <td>couponmachine</td>\n",
       "      <td>Consumer Internet</td>\n",
       "      <td>Online Lending Platform</td>\n",
       "      <td>Bengaluru</td>\n",
       "      <td>UK based Group of Angel Investors</td>\n",
       "      <td>Seed Funding</td>\n",
       "      <td>1,40,000</td>\n",
       "      <td>nan</td>\n",
       "    </tr>\n",
       "  </tbody>\n",
       "</table>\n",
       "<p>3044 rows × 10 columns</p>\n",
       "</div>"
      ],
      "text/plain": [
       "      Sr No       Date    Startup Name    Industry Vertical  \\\n",
       "0         1 2020-01-09          BYJU’S               E-Tech   \n",
       "1         2 2020-01-13          Shuttl       Transportation   \n",
       "2         3 2020-01-09       Mamaearth           E-commerce   \n",
       "3         4 2020-01-02    wealthbucket              FinTech   \n",
       "4         5 2020-01-02          Fashor  Fashion and Apparel   \n",
       "...     ...        ...             ...                  ...   \n",
       "3039   3040 2015-01-29      Printvenue    Consumer Internet   \n",
       "3040   3041 2015-01-29        Graphene    Consumer Internet   \n",
       "3041   3042 2015-01-30  Mad Street Den    Consumer Internet   \n",
       "3042   3043 2015-01-30       Simplotel    Consumer Internet   \n",
       "3043   3044 2015-01-31   couponmachine    Consumer Internet   \n",
       "\n",
       "                               Sub-Vertical       City  \\\n",
       "0                                E-learning  Bengaluru   \n",
       "1                 App based shuttle service   Gurugram   \n",
       "2     Retailer of baby and toddler products  Bengaluru   \n",
       "3                         Online Investment  New Delhi   \n",
       "4               Embroiled Clothes For Women     Mumbai   \n",
       "...                                     ...        ...   \n",
       "3039                Online Lending Platform  Bengaluru   \n",
       "3040                Online Lending Platform  Bengaluru   \n",
       "3041                Online Lending Platform  Bengaluru   \n",
       "3042                Online Lending Platform  Bengaluru   \n",
       "3043                Online Lending Platform  Bengaluru   \n",
       "\n",
       "                         Investors Name       Investment Type  Amount (USD)  \\\n",
       "0               Tiger Global Management  Private Equity Round  20,00,00,000   \n",
       "1             Susquehanna Growth Equity              Series C     80,48,394   \n",
       "2                 Sequoia Capital India              Series B   1,83,58,860   \n",
       "3                        Vinod Khatumal          Pre-series A     30,00,000   \n",
       "4               Sprout Venture Partners            Seed Round     18,00,000   \n",
       "...                                 ...                   ...           ...   \n",
       "3039        Asia Pacific Internet Group        Private Equity     45,00,000   \n",
       "3040                     KARSEMVEN Fund        Private Equity      8,25,000   \n",
       "3041     Exfinity Fund, GrowX Ventures.        Private Equity     15,00,000   \n",
       "3042                         MakeMyTrip        Private Equity           nan   \n",
       "3043  UK based Group of Angel Investors          Seed Funding      1,40,000   \n",
       "\n",
       "                                Remarks  \n",
       "0                                   nan  \n",
       "1                                   nan  \n",
       "2                                   nan  \n",
       "3                                   nan  \n",
       "4                                   nan  \n",
       "...                                 ...  \n",
       "3039                                nan  \n",
       "3040                Govt backed VC Fund  \n",
       "3041                                nan  \n",
       "3042  Strategic Funding, Minority stake  \n",
       "3043                                nan  \n",
       "\n",
       "[3044 rows x 10 columns]"
      ]
     },
     "execution_count": 158,
     "metadata": {},
     "output_type": "execute_result"
    }
   ],
   "source": [
    "df"
   ]
  },
  {
   "cell_type": "markdown",
   "id": "798bf9c2",
   "metadata": {},
   "source": [
    "#### Cleaning Investor Name Column"
   ]
  },
  {
   "cell_type": "code",
   "execution_count": 165,
   "metadata": {},
   "outputs": [],
   "source": [
    "df['Investors Name'] = df['Investors Name'].replace(r'^nan$',np.nan,regex = True)"
   ]
  },
  {
   "cell_type": "code",
   "execution_count": 166,
   "id": "0f6ec405",
   "metadata": {},
   "outputs": [
    {
     "data": {
      "text/plain": [
       "Sr No                                           14\n",
       "Date                           2019-12-16 00:00:00\n",
       "Startup Name                                InCred\n",
       "Industry Vertical                          Finance\n",
       "Sub-Vertical         Non-Banking Financial Company\n",
       "City                                        Mumbai\n",
       "Investors Name                                 NaN\n",
       "Investment Type                       Debt Funding\n",
       "Amount (USD)                             59,00,000\n",
       "Remarks                                        nan\n",
       "Name: 13, dtype: object"
      ]
     },
     "execution_count": 166,
     "metadata": {},
     "output_type": "execute_result"
    }
   ],
   "source": [
    "df.iloc[13]"
   ]
  },
  {
   "cell_type": "code",
   "execution_count": 167,
   "id": "b2fcbd3a",
   "metadata": {},
   "outputs": [
    {
     "data": {
      "text/plain": [
       "Sr No                 0\n",
       "Date                  0\n",
       "Startup Name          0\n",
       "Industry Vertical     0\n",
       "Sub-Vertical          0\n",
       "City                  0\n",
       "Investors Name       24\n",
       "Investment Type       0\n",
       "Amount (USD)          0\n",
       "Remarks               0\n",
       "dtype: int64"
      ]
     },
     "execution_count": 167,
     "metadata": {},
     "output_type": "execute_result"
    }
   ],
   "source": [
    "df.isnull().sum()"
   ]
  },
  {
   "cell_type": "code",
   "execution_count": 169,
   "id": "740965b5",
   "metadata": {},
   "outputs": [],
   "source": [
    "df['Investors Name'] = df['Investors Name'].fillna('Unknown')"
   ]
  },
  {
   "cell_type": "code",
   "execution_count": 171,
   "id": "7f49a299",
   "metadata": {},
   "outputs": [
    {
     "data": {
      "text/plain": [
       "Sr No                0\n",
       "Date                 0\n",
       "Startup Name         0\n",
       "Industry Vertical    0\n",
       "Sub-Vertical         0\n",
       "City                 0\n",
       "Investors Name       0\n",
       "Investment Type      0\n",
       "Amount (USD)         0\n",
       "Remarks              0\n",
       "dtype: int64"
      ]
     },
     "execution_count": 171,
     "metadata": {},
     "output_type": "execute_result"
    }
   ],
   "source": [
    "df.isnull().sum()"
   ]
  },
  {
   "cell_type": "markdown",
   "id": "6e380ab2",
   "metadata": {},
   "source": [
    "#### Cleaning Investment Type Column"
   ]
  },
  {
   "cell_type": "code",
   "execution_count": 172,
   "id": "d28ae457",
   "metadata": {},
   "outputs": [],
   "source": [
    "df['Investment Type'] = df['Investment Type'].replace(r'nan$',np.nan,regex = True)"
   ]
  },
  {
   "cell_type": "code",
   "execution_count": 173,
   "metadata": {},
   "outputs": [
    {
     "data": {
      "text/plain": [
       "Sr No                0\n",
       "Date                 0\n",
       "Startup Name         0\n",
       "Industry Vertical    0\n",
       "Sub-Vertical         0\n",
       "City                 0\n",
       "Investors Name       0\n",
       "Investment Type      4\n",
       "Amount (USD)         0\n",
       "Remarks              0\n",
       "dtype: int64"
      ]
     },
     "execution_count": 173,
     "metadata": {},
     "output_type": "execute_result"
    }
   ],
   "source": [
    "df.isnull().sum()"
   ]
  },
  {
   "cell_type": "code",
   "execution_count": 174,
   "metadata": {},
   "outputs": [
    {
     "data": {
      "text/plain": [
       "array(['Private Equity Round', 'Series C', 'Series B', 'Pre-series A',\n",
       "       'Seed Round', 'Series A', 'Series D', 'Seed', 'Series F',\n",
       "       'Series E', 'Debt Funding', 'Series G', 'Series H', 'Venture',\n",
       "       'Seed Funding', nan, 'Funding Round', 'Corporate Round',\n",
       "       'Maiden Round', 'pre-series A', 'Seed Funding Round',\n",
       "       'Single Venture', 'Venture Round', 'Pre-Series A', 'Angel',\n",
       "       'Series J', 'Angel Round', 'pre-Series A',\n",
       "       'Venture - Series Unknown', 'Bridge Round', 'Private Equity',\n",
       "       'Debt and Preference capital', 'Inhouse Funding',\n",
       "       'Seed/ Angel Funding', 'Debt', 'Pre Series A', 'Equity',\n",
       "       'Debt-Funding', 'Mezzanine', 'Series B (Extension)',\n",
       "       'Equity Based Funding', 'Private Funding', 'Seed / Angel Funding',\n",
       "       'Seed/Angel Funding', 'Seed funding', 'Seed / Angle Funding',\n",
       "       'Angel / Seed Funding', 'Private', 'Structured Debt', 'Term Loan',\n",
       "       'PrivateEquity', 'Angel Funding', 'Crowd funding', 'Crowd Funding'],\n",
       "      dtype=object)"
      ]
     },
     "execution_count": 174,
     "metadata": {},
     "output_type": "execute_result"
    }
   ],
   "source": [
    "df['Investment Type'].unique()"
   ]
  },
  {
   "cell_type": "code",
   "execution_count": 177,
   "id": "453817b7",
   "metadata": {},
   "outputs": [
    {
     "data": {
      "text/plain": [
       "0    Seed Funding\n",
       "Name: Investment Type, dtype: object"
      ]
     },
     "execution_count": 177,
     "metadata": {},
     "output_type": "execute_result"
    }
   ],
   "source": [
    "df['Investment Type'].mode()"
   ]
  },
  {
   "cell_type": "code",
   "execution_count": 175,
   "id": "84024791",
   "metadata": {},
   "outputs": [],
   "source": [
    "df['Investment Type'] = df['Investment Type'].fillna(df['Investment Type'].mode()[0])"
   ]
  },
  {
   "cell_type": "code",
   "execution_count": 178,
   "id": "2f428de5",
   "metadata": {},
   "outputs": [
    {
     "data": {
      "text/plain": [
       "Sr No                0\n",
       "Date                 0\n",
       "Startup Name         0\n",
       "Industry Vertical    0\n",
       "Sub-Vertical         0\n",
       "City                 0\n",
       "Investors Name       0\n",
       "Investment Type      0\n",
       "Amount (USD)         0\n",
       "Remarks              0\n",
       "dtype: int64"
      ]
     },
     "execution_count": 178,
     "metadata": {},
     "output_type": "execute_result"
    }
   ],
   "source": [
    "df.isnull().sum()"
   ]
  },
  {
   "cell_type": "markdown",
   "id": "407e8cef",
   "metadata": {},
   "source": [
    "#### Cleaning Amount (USD) column"
   ]
  },
  {
   "cell_type": "code",
   "execution_count": 179,
   "id": "b09be89d",
   "metadata": {},
   "outputs": [],
   "source": [
    "df['Amount (USD)'] = df['Amount (USD)'].replace(r'nan$',np.nan,regex=True)"
   ]
  },
  {
   "cell_type": "code",
   "execution_count": 180,
   "id": "df0d62a9",
   "metadata": {},
   "outputs": [
    {
     "data": {
      "text/plain": [
       "Sr No                  0\n",
       "Date                   0\n",
       "Startup Name           0\n",
       "Industry Vertical      0\n",
       "Sub-Vertical           0\n",
       "City                   0\n",
       "Investors Name         0\n",
       "Investment Type        0\n",
       "Amount (USD)         960\n",
       "Remarks                0\n",
       "dtype: int64"
      ]
     },
     "execution_count": 180,
     "metadata": {},
     "output_type": "execute_result"
    }
   ],
   "source": [
    "df.isnull().sum()"
   ]
  },
  {
   "cell_type": "code",
   "execution_count": 182,
   "id": "6ec63746",
   "metadata": {},
   "outputs": [
    {
     "name": "stdout",
     "output_type": "stream",
     "text": [
      "count          2084\n",
      "unique          471\n",
      "top       10,00,000\n",
      "freq            165\n",
      "Name: Amount (USD), dtype: object\n"
     ]
    }
   ],
   "source": [
    "print(df['Amount (USD)'].describe())"
   ]
  },
  {
   "cell_type": "code",
   "execution_count": null,
   "metadata": {},
   "outputs": [],
   "source": [
    "df['Amount (USD)'] = df['Amount (USD)'].str.replace(',','')\n",
    "df['Amount (USD)'] = pd.to_numeric(df['Amount (USD)'], errors='coerce')"
   ]
  },
  {
   "cell_type": "code",
   "execution_count": 193,
   "id": "ac597900",
   "metadata": {},
   "outputs": [],
   "source": [
    "median_amount = df['Amount (USD)'].median()\n",
    "df['Amount (USD)'].fillna(median_amount,inplace = True)"
   ]
  },
  {
   "cell_type": "code",
   "execution_count": 197,
   "id": "428a0acd",
   "metadata": {},
   "outputs": [
    {
     "data": {
      "text/plain": [
       "np.int64(0)"
      ]
     },
     "execution_count": 197,
     "metadata": {},
     "output_type": "execute_result"
    }
   ],
   "source": [
    "df['Amount (USD)'].isnull().sum()"
   ]
  },
  {
   "cell_type": "code",
   "execution_count": 198,
   "id": "a2f59088",
   "metadata": {},
   "outputs": [
    {
     "name": "stdout",
     "output_type": "stream",
     "text": [
      "<class 'pandas.core.frame.DataFrame'>\n",
      "RangeIndex: 3044 entries, 0 to 3043\n",
      "Data columns (total 10 columns):\n",
      " #   Column             Non-Null Count  Dtype         \n",
      "---  ------             --------------  -----         \n",
      " 0   Sr No              3044 non-null   int64         \n",
      " 1   Date               3044 non-null   datetime64[ns]\n",
      " 2   Startup Name       3044 non-null   object        \n",
      " 3   Industry Vertical  3044 non-null   object        \n",
      " 4   Sub-Vertical       3044 non-null   object        \n",
      " 5   City               3044 non-null   object        \n",
      " 6   Investors Name     3044 non-null   object        \n",
      " 7   Investment Type    3044 non-null   object        \n",
      " 8   Amount (USD)       3044 non-null   float64       \n",
      " 9   Remarks            3044 non-null   object        \n",
      "dtypes: datetime64[ns](1), float64(1), int64(1), object(7)\n",
      "memory usage: 237.9+ KB\n"
     ]
    }
   ],
   "source": [
    "df.info()"
   ]
  },
  {
   "cell_type": "code",
   "execution_count": 199,
   "id": "b6fb03f9",
   "metadata": {},
   "outputs": [],
   "source": [
    "df['Remarks'] = df['Remarks'].replace(r'nan$',np.nan,regex = True)"
   ]
  },
  {
   "cell_type": "code",
   "execution_count": 201,
   "metadata": {},
   "outputs": [
    {
     "data": {
      "text/plain": [
       "Sr No                   0\n",
       "Date                    0\n",
       "Startup Name            0\n",
       "Industry Vertical       0\n",
       "Sub-Vertical            0\n",
       "City                    0\n",
       "Investors Name          0\n",
       "Investment Type         0\n",
       "Amount (USD)            0\n",
       "Remarks              2625\n",
       "dtype: int64"
      ]
     },
     "execution_count": 201,
     "metadata": {},
     "output_type": "execute_result"
    }
   ],
   "source": [
    "df.isnull().sum()"
   ]
  },
  {
   "cell_type": "code",
   "execution_count": 202,
   "id": "7e9180cf",
   "metadata": {},
   "outputs": [],
   "source": [
    "df['Remarks'].fillna('No Remarks', inplace = True)"
   ]
  },
  {
   "cell_type": "code",
   "execution_count": 203,
   "id": "0ddc7962",
   "metadata": {},
   "outputs": [
    {
     "data": {
      "text/plain": [
       "Sr No                0\n",
       "Date                 0\n",
       "Startup Name         0\n",
       "Industry Vertical    0\n",
       "Sub-Vertical         0\n",
       "City                 0\n",
       "Investors Name       0\n",
       "Investment Type      0\n",
       "Amount (USD)         0\n",
       "Remarks              0\n",
       "dtype: int64"
      ]
     },
     "execution_count": 203,
     "metadata": {},
     "output_type": "execute_result"
    }
   ],
   "source": [
    "df.isnull().sum()"
   ]
  },
  {
   "cell_type": "code",
   "execution_count": 207,
   "id": "4721c571",
   "metadata": {},
   "outputs": [
    {
     "data": {
      "text/html": [
       "<div>\n",
       "<style scoped>\n",
       "    .dataframe tbody tr th:only-of-type {\n",
       "        vertical-align: middle;\n",
       "    }\n",
       "\n",
       "    .dataframe tbody tr th {\n",
       "        vertical-align: top;\n",
       "    }\n",
       "\n",
       "    .dataframe thead th {\n",
       "        text-align: right;\n",
       "    }\n",
       "</style>\n",
       "<table border=\"1\" class=\"dataframe\">\n",
       "  <thead>\n",
       "    <tr style=\"text-align: right;\">\n",
       "      <th></th>\n",
       "      <th>Sr No</th>\n",
       "      <th>Date</th>\n",
       "      <th>Startup Name</th>\n",
       "      <th>Industry Vertical</th>\n",
       "      <th>Sub-Vertical</th>\n",
       "      <th>City</th>\n",
       "      <th>Investors Name</th>\n",
       "      <th>Investment Type</th>\n",
       "      <th>Amount (USD)</th>\n",
       "      <th>Remarks</th>\n",
       "    </tr>\n",
       "  </thead>\n",
       "  <tbody>\n",
       "    <tr>\n",
       "      <th>0</th>\n",
       "      <td>1</td>\n",
       "      <td>2020-01-09</td>\n",
       "      <td>BYJU'S</td>\n",
       "      <td>E-Tech</td>\n",
       "      <td>E-learning</td>\n",
       "      <td>Bengaluru</td>\n",
       "      <td>Tiger Global Management</td>\n",
       "      <td>Private Equity Round</td>\n",
       "      <td>200000000.0</td>\n",
       "      <td>No Remarks</td>\n",
       "    </tr>\n",
       "    <tr>\n",
       "      <th>1</th>\n",
       "      <td>2</td>\n",
       "      <td>2020-01-13</td>\n",
       "      <td>Shuttl</td>\n",
       "      <td>Transportation</td>\n",
       "      <td>App based shuttle service</td>\n",
       "      <td>Gurugram</td>\n",
       "      <td>Susquehanna Growth Equity</td>\n",
       "      <td>Series C</td>\n",
       "      <td>8048394.0</td>\n",
       "      <td>No Remarks</td>\n",
       "    </tr>\n",
       "    <tr>\n",
       "      <th>2</th>\n",
       "      <td>3</td>\n",
       "      <td>2020-01-09</td>\n",
       "      <td>Mamaearth</td>\n",
       "      <td>E-commerce</td>\n",
       "      <td>Retailer of baby and toddler products</td>\n",
       "      <td>Bengaluru</td>\n",
       "      <td>Sequoia Capital India</td>\n",
       "      <td>Series B</td>\n",
       "      <td>18358860.0</td>\n",
       "      <td>No Remarks</td>\n",
       "    </tr>\n",
       "    <tr>\n",
       "      <th>3</th>\n",
       "      <td>4</td>\n",
       "      <td>2020-01-02</td>\n",
       "      <td>wealthbucket</td>\n",
       "      <td>FinTech</td>\n",
       "      <td>Online Investment</td>\n",
       "      <td>New Delhi</td>\n",
       "      <td>Vinod Khatumal</td>\n",
       "      <td>Pre-series A</td>\n",
       "      <td>3000000.0</td>\n",
       "      <td>No Remarks</td>\n",
       "    </tr>\n",
       "    <tr>\n",
       "      <th>4</th>\n",
       "      <td>5</td>\n",
       "      <td>2020-01-02</td>\n",
       "      <td>Fashor</td>\n",
       "      <td>Fashion and Apparel</td>\n",
       "      <td>Embroiled Clothes For Women</td>\n",
       "      <td>Mumbai</td>\n",
       "      <td>Sprout Venture Partners</td>\n",
       "      <td>Seed Round</td>\n",
       "      <td>1800000.0</td>\n",
       "      <td>No Remarks</td>\n",
       "    </tr>\n",
       "    <tr>\n",
       "      <th>...</th>\n",
       "      <td>...</td>\n",
       "      <td>...</td>\n",
       "      <td>...</td>\n",
       "      <td>...</td>\n",
       "      <td>...</td>\n",
       "      <td>...</td>\n",
       "      <td>...</td>\n",
       "      <td>...</td>\n",
       "      <td>...</td>\n",
       "      <td>...</td>\n",
       "    </tr>\n",
       "    <tr>\n",
       "      <th>3039</th>\n",
       "      <td>3040</td>\n",
       "      <td>2015-01-29</td>\n",
       "      <td>Printvenue</td>\n",
       "      <td>Consumer Internet</td>\n",
       "      <td>Online Lending Platform</td>\n",
       "      <td>Bengaluru</td>\n",
       "      <td>Asia Pacific Internet Group</td>\n",
       "      <td>Private Equity</td>\n",
       "      <td>4500000.0</td>\n",
       "      <td>No Remarks</td>\n",
       "    </tr>\n",
       "    <tr>\n",
       "      <th>3040</th>\n",
       "      <td>3041</td>\n",
       "      <td>2015-01-29</td>\n",
       "      <td>Graphene</td>\n",
       "      <td>Consumer Internet</td>\n",
       "      <td>Online Lending Platform</td>\n",
       "      <td>Bengaluru</td>\n",
       "      <td>KARSEMVEN Fund</td>\n",
       "      <td>Private Equity</td>\n",
       "      <td>825000.0</td>\n",
       "      <td>Govt backed VC Fund</td>\n",
       "    </tr>\n",
       "    <tr>\n",
       "      <th>3041</th>\n",
       "      <td>3042</td>\n",
       "      <td>2015-01-30</td>\n",
       "      <td>Mad Street Den</td>\n",
       "      <td>Consumer Internet</td>\n",
       "      <td>Online Lending Platform</td>\n",
       "      <td>Bengaluru</td>\n",
       "      <td>Exfinity Fund, GrowX Ventures.</td>\n",
       "      <td>Private Equity</td>\n",
       "      <td>1500000.0</td>\n",
       "      <td>No Remarks</td>\n",
       "    </tr>\n",
       "    <tr>\n",
       "      <th>3042</th>\n",
       "      <td>3043</td>\n",
       "      <td>2015-01-30</td>\n",
       "      <td>Simplotel</td>\n",
       "      <td>Consumer Internet</td>\n",
       "      <td>Online Lending Platform</td>\n",
       "      <td>Bengaluru</td>\n",
       "      <td>MakeMyTrip</td>\n",
       "      <td>Private Equity</td>\n",
       "      <td>1750000.0</td>\n",
       "      <td>Strategic Funding, Minority stake</td>\n",
       "    </tr>\n",
       "    <tr>\n",
       "      <th>3043</th>\n",
       "      <td>3044</td>\n",
       "      <td>2015-01-31</td>\n",
       "      <td>couponmachine</td>\n",
       "      <td>Consumer Internet</td>\n",
       "      <td>Online Lending Platform</td>\n",
       "      <td>Bengaluru</td>\n",
       "      <td>UK based Group of Angel Investors</td>\n",
       "      <td>Seed Funding</td>\n",
       "      <td>140000.0</td>\n",
       "      <td>No Remarks</td>\n",
       "    </tr>\n",
       "  </tbody>\n",
       "</table>\n",
       "<p>3044 rows × 10 columns</p>\n",
       "</div>"
      ],
      "text/plain": [
       "      Sr No       Date    Startup Name    Industry Vertical  \\\n",
       "0         1 2020-01-09          BYJU'S               E-Tech   \n",
       "1         2 2020-01-13          Shuttl       Transportation   \n",
       "2         3 2020-01-09       Mamaearth           E-commerce   \n",
       "3         4 2020-01-02    wealthbucket              FinTech   \n",
       "4         5 2020-01-02          Fashor  Fashion and Apparel   \n",
       "...     ...        ...             ...                  ...   \n",
       "3039   3040 2015-01-29      Printvenue    Consumer Internet   \n",
       "3040   3041 2015-01-29        Graphene    Consumer Internet   \n",
       "3041   3042 2015-01-30  Mad Street Den    Consumer Internet   \n",
       "3042   3043 2015-01-30       Simplotel    Consumer Internet   \n",
       "3043   3044 2015-01-31   couponmachine    Consumer Internet   \n",
       "\n",
       "                               Sub-Vertical       City  \\\n",
       "0                                E-learning  Bengaluru   \n",
       "1                 App based shuttle service   Gurugram   \n",
       "2     Retailer of baby and toddler products  Bengaluru   \n",
       "3                         Online Investment  New Delhi   \n",
       "4               Embroiled Clothes For Women     Mumbai   \n",
       "...                                     ...        ...   \n",
       "3039                Online Lending Platform  Bengaluru   \n",
       "3040                Online Lending Platform  Bengaluru   \n",
       "3041                Online Lending Platform  Bengaluru   \n",
       "3042                Online Lending Platform  Bengaluru   \n",
       "3043                Online Lending Platform  Bengaluru   \n",
       "\n",
       "                         Investors Name       Investment Type  Amount (USD)  \\\n",
       "0               Tiger Global Management  Private Equity Round   200000000.0   \n",
       "1             Susquehanna Growth Equity              Series C     8048394.0   \n",
       "2                 Sequoia Capital India              Series B    18358860.0   \n",
       "3                        Vinod Khatumal          Pre-series A     3000000.0   \n",
       "4               Sprout Venture Partners            Seed Round     1800000.0   \n",
       "...                                 ...                   ...           ...   \n",
       "3039        Asia Pacific Internet Group        Private Equity     4500000.0   \n",
       "3040                     KARSEMVEN Fund        Private Equity      825000.0   \n",
       "3041     Exfinity Fund, GrowX Ventures.        Private Equity     1500000.0   \n",
       "3042                         MakeMyTrip        Private Equity     1750000.0   \n",
       "3043  UK based Group of Angel Investors          Seed Funding      140000.0   \n",
       "\n",
       "                                Remarks  \n",
       "0                            No Remarks  \n",
       "1                            No Remarks  \n",
       "2                            No Remarks  \n",
       "3                            No Remarks  \n",
       "4                            No Remarks  \n",
       "...                                 ...  \n",
       "3039                         No Remarks  \n",
       "3040                Govt backed VC Fund  \n",
       "3041                         No Remarks  \n",
       "3042  Strategic Funding, Minority stake  \n",
       "3043                         No Remarks  \n",
       "\n",
       "[3044 rows x 10 columns]"
      ]
     },
     "execution_count": 207,
     "metadata": {},
     "output_type": "execute_result"
    }
   ],
   "source": [
    "df"
   ]
  },
  {
   "cell_type": "code",
   "execution_count": 208,
   "id": "39d212fa",
   "metadata": {},
   "outputs": [],
   "source": [
    "df.to_csv('cleaned_startup_data.csv')"
   ]
  },
  {
   "cell_type": "markdown",
   "id": "4d35dcfe",
   "metadata": {},
   "source": [
    "## End of the data cleaning"
   ]
  }
 ],
 "metadata": {
  "kernelspec": {
   "display_name": "Python 3",
   "language": "python",
   "name": "python3"
  },
  "language_info": {
   "codemirror_mode": {
    "name": "ipython",
    "version": 3
   },
   "file_extension": ".py",
   "mimetype": "text/x-python",
   "name": "python",
   "nbconvert_exporter": "python",
   "pygments_lexer": "ipython3",
   "version": "3.12.0"
  }
 },
 "nbformat": 4,
 "nbformat_minor": 5
}
